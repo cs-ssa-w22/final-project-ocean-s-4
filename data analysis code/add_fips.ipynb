{
 "cells": [
  {
   "cell_type": "code",
   "execution_count": 1,
   "metadata": {},
   "outputs": [],
   "source": [
    "import pandas as pd\n",
    "import numpy as np\n",
    "from geopy.geocoders import Nominatim"
   ]
  },
  {
   "cell_type": "code",
   "execution_count": 38,
   "metadata": {},
   "outputs": [],
   "source": [
    "## load fips csv\n",
    "fips = pd.read_csv(\"fips2county.tsv\", sep='\\t', dtype={'CountyFIPS_3': 'string'} )\n",
    "fips['fips_code']= fips['CountyFIPS'].astype(str)"
   ]
  },
  {
   "cell_type": "code",
   "execution_count": 39,
   "metadata": {},
   "outputs": [
    {
     "data": {
      "text/plain": [
       "0       4\n",
       "1       4\n",
       "2       4\n",
       "3       4\n",
       "4       4\n",
       "       ..\n",
       "3137    5\n",
       "3138    5\n",
       "3139    5\n",
       "3140    5\n",
       "3141    5\n",
       "Name: fips_code, Length: 3142, dtype: int64"
      ]
     },
     "execution_count": 39,
     "metadata": {},
     "output_type": "execute_result"
    }
   ],
   "source": [
    "fips['fips_code'].str.len()"
   ]
  },
  {
   "cell_type": "code",
   "execution_count": 40,
   "metadata": {},
   "outputs": [],
   "source": [
    "fips.loc[fips['fips_code'].str.len() == 4, ['fips_code']] = '0' + fips['fips_code'][fips['fips_code'].str.len() == 4]"
   ]
  },
  {
   "cell_type": "code",
   "execution_count": 41,
   "metadata": {},
   "outputs": [
    {
     "data": {
      "text/plain": [
       "0       01001\n",
       "1       01003\n",
       "2       01005\n",
       "3       01007\n",
       "4       01009\n",
       "        ...  \n",
       "3137    56037\n",
       "3138    56039\n",
       "3139    56041\n",
       "3140    56043\n",
       "3141    56045\n",
       "Name: fips_code, Length: 3142, dtype: object"
      ]
     },
     "execution_count": 41,
     "metadata": {},
     "output_type": "execute_result"
    }
   ],
   "source": [
    "fips.fips_code"
   ]
  },
  {
   "cell_type": "code",
   "execution_count": 42,
   "metadata": {},
   "outputs": [],
   "source": [
    "school = 'data/University of California, Riverside' # change to your school's name"
   ]
  },
  {
   "cell_type": "code",
   "execution_count": 43,
   "metadata": {},
   "outputs": [],
   "source": [
    "df = pd.read_csv(school + '_clean.csv') "
   ]
  },
  {
   "cell_type": "code",
   "execution_count": 44,
   "metadata": {},
   "outputs": [
    {
     "name": "stdout",
     "output_type": "stream",
     "text": [
      "<class 'pandas.core.frame.DataFrame'>\n",
      "RangeIndex: 2202 entries, 0 to 2201\n",
      "Data columns (total 7 columns):\n",
      " #   Column            Non-Null Count  Dtype \n",
      "---  ------            --------------  ----- \n",
      " 0   Unnamed: 0        2202 non-null   int64 \n",
      " 1   current_location  2202 non-null   object\n",
      " 2   current_work      2165 non-null   object\n",
      " 3   previous_work     2139 non-null   object\n",
      " 4   latest_Education  2202 non-null   object\n",
      " 5   major             2052 non-null   object\n",
      " 6   search_school     2202 non-null   object\n",
      "dtypes: int64(1), object(6)\n",
      "memory usage: 120.5+ KB\n"
     ]
    }
   ],
   "source": [
    "df.info()"
   ]
  },
  {
   "cell_type": "code",
   "execution_count": 45,
   "metadata": {},
   "outputs": [],
   "source": [
    "# replace wrong locations(string 'connections' in them) to nulls\n",
    "no_value = df.current_location.str.contains('connections') \n",
    "df.loc[no_value,'current_location'] = np.NAN\n",
    "\n",
    "# remove some strings not identified by geocode (!you can add more depending on your data)\n",
    "l = ['Metropolitan','Area', 'Township of', 'Region', 'Greater', 'Metroplex', 'District']\n",
    "df['current_location'] = df['current_location'].str.replace('|'.join(l), '', regex=True)\n",
    "\n",
    "geolocator = Nominatim(user_agent=\"course_project\")"
   ]
  },
  {
   "cell_type": "code",
   "execution_count": 46,
   "metadata": {},
   "outputs": [],
   "source": [
    "# generate a dictionary mapping unique locations to corresponding coordinates (4 mins)\n",
    "latitude = {}\n",
    "longitude = {}\n",
    "state = {}\n",
    "county = {}\n",
    "city = {}\n",
    "unique_locs = df.current_location.unique()\n",
    "for loc in unique_locs:\n",
    "    location = geolocator.geocode(loc, timeout = 600,addressdetails=True)\n",
    "    if pd.isna(location) or pd.isna(loc):\n",
    "        latitude[loc] = np.NAN\n",
    "        longitude[loc] = np.NAN\n",
    "        state[loc] = np.NAN\n",
    "        county[loc] = np.NAN\n",
    "        city[loc] = np.NAN\n",
    "    else:\n",
    "        latitude[loc] = location.latitude\n",
    "        longitude[loc] = location.longitude\n",
    "        try:\n",
    "            state[loc] = location.raw['address']['state']\n",
    "        except:\n",
    "            state[loc] = np.NAN\n",
    "        try:\n",
    "            county[loc] = location.raw['address']['county'].rsplit(' ',1)[0]\n",
    "        except:\n",
    "            county[loc] = np.NAN\n",
    "        try:\n",
    "            city[loc] = location.raw['address']['city']\n",
    "        except:\n",
    "            city[loc] = np.NAN"
   ]
  },
  {
   "cell_type": "code",
   "execution_count": 48,
   "metadata": {},
   "outputs": [],
   "source": [
    "df['latitude'] = df.apply(lambda row: latitude[row.current_location], axis =1)\n",
    "df['longitude'] = df.apply(lambda row: longitude[row.current_location], axis =1)\n",
    "df['state'] = df.apply(lambda row: state[row.current_location], axis =1)\n",
    "df['county'] = df.apply(lambda row: county[row.current_location], axis =1)\n",
    "df['city'] = df.apply(lambda row: city[row.current_location], axis =1)"
   ]
  },
  {
   "cell_type": "code",
   "execution_count": 50,
   "metadata": {},
   "outputs": [],
   "source": [
    "def mapping(row):\n",
    "    ''' map state-county to fips code\n",
    "    '''\n",
    "    if row[['county','state']].notnull().all():\n",
    "        x = fips[(fips.CountyName==row.county) & (fips.StateName==row.state)]['fips_code'].values.tolist()\n",
    "        if x !=[]:\n",
    "            return str(x[0])\n",
    "    else:\n",
    "        try:\n",
    "            x = fips[(fips.CountyName==row.city) & (fips.StateName==row.state)]['fips_code'].values.tolist()\n",
    "            if x !=[]:\n",
    "                return str(x[0])\n",
    "        except:\n",
    "            pass   \n",
    "    return np.nan"
   ]
  },
  {
   "cell_type": "code",
   "execution_count": 51,
   "metadata": {},
   "outputs": [],
   "source": [
    "df['fips'] = df.apply(mapping, axis=1)\n",
    "df['fips']  = df['fips'] .astype(str)"
   ]
  },
  {
   "cell_type": "code",
   "execution_count": 52,
   "metadata": {},
   "outputs": [],
   "source": [
    "df = df.drop(columns=['Unnamed: 0'])"
   ]
  },
  {
   "cell_type": "code",
   "execution_count": 53,
   "metadata": {},
   "outputs": [
    {
     "data": {
      "text/plain": [
       "0       06037\n",
       "1       06059\n",
       "2       06075\n",
       "3       48085\n",
       "4       48113\n",
       "        ...  \n",
       "2197    08005\n",
       "2198    06059\n",
       "2199    06059\n",
       "2200    06073\n",
       "2201      nan\n",
       "Name: fips, Length: 2202, dtype: object"
      ]
     },
     "execution_count": 53,
     "metadata": {},
     "output_type": "execute_result"
    }
   ],
   "source": [
    "df.fips"
   ]
  },
  {
   "cell_type": "code",
   "execution_count": 56,
   "metadata": {},
   "outputs": [
    {
     "data": {
      "text/plain": [
       "0        (34.0536909, -118.242766)\n",
       "1       (33.6170092, -117.9294401)\n",
       "2        (37.7790262, -122.419906)\n",
       "3        (33.1031744, -96.6705503)\n",
       "4        (32.9552598, -97.0155703)\n",
       "                   ...            \n",
       "2197      (39.613321, -105.016649)\n",
       "2198    (33.7500378, -117.8704931)\n",
       "2199    (33.6783336, -118.0000166)\n",
       "2200    (32.7174202, -117.1627728)\n",
       "2201     (39.7837304, -100.445882)\n",
       "Name: coordinate, Length: 2202, dtype: object"
      ]
     },
     "execution_count": 56,
     "metadata": {},
     "output_type": "execute_result"
    }
   ],
   "source": [
    "df.coordinate\t"
   ]
  },
  {
   "cell_type": "code",
   "execution_count": 59,
   "metadata": {},
   "outputs": [
    {
     "data": {
      "text/plain": [
       "0       34.053691\n",
       "1       33.617009\n",
       "2       37.779026\n",
       "3       33.103174\n",
       "4       32.955260\n",
       "          ...    \n",
       "2197    39.613321\n",
       "2198    33.750038\n",
       "2199    33.678334\n",
       "2200    32.717420\n",
       "2201    39.783730\n",
       "Name: latitude, Length: 2202, dtype: float64"
      ]
     },
     "execution_count": 59,
     "metadata": {},
     "output_type": "execute_result"
    }
   ],
   "source": [
    "df.latitude"
   ]
  },
  {
   "cell_type": "code",
   "execution_count": 60,
   "metadata": {},
   "outputs": [],
   "source": [
    "## save to a new csv file!!!\n",
    "df.to_csv(school + '_with_fips.csv')"
   ]
  },
  {
   "cell_type": "code",
   "execution_count": 193,
   "metadata": {},
   "outputs": [
    {
     "data": {
      "text/plain": [
       "Location(Frankfurter Straße, Urdenbach, Stadtbezirk 9, Düsseldorf, Nordrhein-Westfalen, 40593, Deutschland, (51.1549523, 6.8854454, 0.0))"
      ]
     },
     "execution_count": 193,
     "metadata": {},
     "output_type": "execute_result"
    }
   ],
   "source": [
    "# bugfix (optional)\n",
    "#check a specific location\n",
    "location = geolocator.geocode('Frankfurt Rhine', timeout = 600)\n",
    "location"
   ]
  },
  {
   "cell_type": "code",
   "execution_count": 194,
   "metadata": {},
   "outputs": [
    {
     "data": {
      "text/html": [
       "<div>\n",
       "<style scoped>\n",
       "    .dataframe tbody tr th:only-of-type {\n",
       "        vertical-align: middle;\n",
       "    }\n",
       "\n",
       "    .dataframe tbody tr th {\n",
       "        vertical-align: top;\n",
       "    }\n",
       "\n",
       "    .dataframe thead th {\n",
       "        text-align: right;\n",
       "    }\n",
       "</style>\n",
       "<table border=\"1\" class=\"dataframe\">\n",
       "  <thead>\n",
       "    <tr style=\"text-align: right;\">\n",
       "      <th></th>\n",
       "      <th>current_location</th>\n",
       "      <th>current_work</th>\n",
       "      <th>previous_work</th>\n",
       "      <th>latest_Education</th>\n",
       "      <th>major</th>\n",
       "      <th>search_school</th>\n",
       "      <th>coordinate</th>\n",
       "      <th>state</th>\n",
       "      <th>county</th>\n",
       "      <th>city</th>\n",
       "      <th>fips</th>\n",
       "    </tr>\n",
       "  </thead>\n",
       "  <tbody>\n",
       "    <tr>\n",
       "      <th>337</th>\n",
       "      <td>Greenville-Spartanburg-Anderson, South Carolina</td>\n",
       "      <td>President/Owner, Financial Advisor, CFP®, CRPC...</td>\n",
       "      <td>Vice President, Financial Advisor, CFP®, CRPC®...</td>\n",
       "      <td>University of South Carolina - The Moore Schoo...</td>\n",
       "      <td>Brazil/Portuguese</td>\n",
       "      <td>University of California, Riverside</td>\n",
       "      <td>NaN</td>\n",
       "      <td>NaN</td>\n",
       "      <td>NaN</td>\n",
       "      <td>NaN</td>\n",
       "      <td>&lt;NA&gt;</td>\n",
       "    </tr>\n",
       "    <tr>\n",
       "      <th>548</th>\n",
       "      <td>Frankfurt Rhine-Main</td>\n",
       "      <td>Head of Banking and Partner Strategy and Execu...</td>\n",
       "      <td>Senior Adviser at Holland FinTech</td>\n",
       "      <td>University of   California, Riverside</td>\n",
       "      <td>German Language and Literature</td>\n",
       "      <td>University of California, Riverside</td>\n",
       "      <td>NaN</td>\n",
       "      <td>NaN</td>\n",
       "      <td>NaN</td>\n",
       "      <td>NaN</td>\n",
       "      <td>&lt;NA&gt;</td>\n",
       "    </tr>\n",
       "    <tr>\n",
       "      <th>1001</th>\n",
       "      <td>Ezana is a startup entrepreneur currently prom...</td>\n",
       "      <td>CEO at Afri Kash</td>\n",
       "      <td>Service Management Officer at United Nations</td>\n",
       "      <td>University of California, Riverside</td>\n",
       "      <td>Political Science</td>\n",
       "      <td>University of California, Riverside</td>\n",
       "      <td>NaN</td>\n",
       "      <td>NaN</td>\n",
       "      <td>NaN</td>\n",
       "      <td>NaN</td>\n",
       "      <td>&lt;NA&gt;</td>\n",
       "    </tr>\n",
       "    <tr>\n",
       "      <th>1013</th>\n",
       "      <td>Laila Mickelwait is the Founder and CEO of the...</td>\n",
       "      <td>Founder/CEO at Justice Defense Fund</td>\n",
       "      <td>Founder at New Reality International</td>\n",
       "      <td>University of Southern California</td>\n",
       "      <td>Public Diplomacy</td>\n",
       "      <td>University of California, Riverside</td>\n",
       "      <td>NaN</td>\n",
       "      <td>NaN</td>\n",
       "      <td>NaN</td>\n",
       "      <td>NaN</td>\n",
       "      <td>&lt;NA&gt;</td>\n",
       "    </tr>\n",
       "    <tr>\n",
       "      <th>1782</th>\n",
       "      <td>CEO at Cyphen Limited</td>\n",
       "      <td>CEO at Cyphen Limited</td>\n",
       "      <td>NaN</td>\n",
       "      <td>Peking University</td>\n",
       "      <td>国际经济</td>\n",
       "      <td>University of California, Riverside</td>\n",
       "      <td>NaN</td>\n",
       "      <td>NaN</td>\n",
       "      <td>NaN</td>\n",
       "      <td>NaN</td>\n",
       "      <td>&lt;NA&gt;</td>\n",
       "    </tr>\n",
       "  </tbody>\n",
       "</table>\n",
       "</div>"
      ],
      "text/plain": [
       "                                       current_location  \\\n",
       "337    Greenville-Spartanburg-Anderson, South Carolina    \n",
       "548                              Frankfurt Rhine-Main     \n",
       "1001  Ezana is a startup entrepreneur currently prom...   \n",
       "1013  Laila Mickelwait is the Founder and CEO of the...   \n",
       "1782                              CEO at Cyphen Limited   \n",
       "\n",
       "                                           current_work  \\\n",
       "337   President/Owner, Financial Advisor, CFP®, CRPC...   \n",
       "548   Head of Banking and Partner Strategy and Execu...   \n",
       "1001                                   CEO at Afri Kash   \n",
       "1013                Founder/CEO at Justice Defense Fund   \n",
       "1782                              CEO at Cyphen Limited   \n",
       "\n",
       "                                          previous_work  \\\n",
       "337   Vice President, Financial Advisor, CFP®, CRPC®...   \n",
       "548                   Senior Adviser at Holland FinTech   \n",
       "1001       Service Management Officer at United Nations   \n",
       "1013               Founder at New Reality International   \n",
       "1782                                                NaN   \n",
       "\n",
       "                                       latest_Education  \\\n",
       "337   University of South Carolina - The Moore Schoo...   \n",
       "548               University of   California, Riverside   \n",
       "1001                University of California, Riverside   \n",
       "1013                  University of Southern California   \n",
       "1782                                  Peking University   \n",
       "\n",
       "                               major                        search_school  \\\n",
       "337                Brazil/Portuguese  University of California, Riverside   \n",
       "548   German Language and Literature  University of California, Riverside   \n",
       "1001               Political Science  University of California, Riverside   \n",
       "1013                Public Diplomacy  University of California, Riverside   \n",
       "1782                            国际经济  University of California, Riverside   \n",
       "\n",
       "     coordinate state county city  fips  \n",
       "337         NaN   NaN    NaN  NaN  <NA>  \n",
       "548         NaN   NaN    NaN  NaN  <NA>  \n",
       "1001        NaN   NaN    NaN  NaN  <NA>  \n",
       "1013        NaN   NaN    NaN  NaN  <NA>  \n",
       "1782        NaN   NaN    NaN  NaN  <NA>  "
      ]
     },
     "execution_count": 194,
     "metadata": {},
     "output_type": "execute_result"
    }
   ],
   "source": [
    "#check NAN values and revise current locations to be searchable (change/add more strings to remove in l)\n",
    "df[(df.coordinate.isna()) & (df.current_location.notna())]"
   ]
  }
 ],
 "metadata": {
  "interpreter": {
   "hash": "4e44c95577c5c07fd4c004a76bf84c62558203d4d2c850629ef860a89bb137ad"
  },
  "kernelspec": {
   "display_name": "Python 3.10.2 64-bit (windows store)",
   "language": "python",
   "name": "python3"
  },
  "language_info": {
   "codemirror_mode": {
    "name": "ipython",
    "version": 3
   },
   "file_extension": ".py",
   "mimetype": "text/x-python",
   "name": "python",
   "nbconvert_exporter": "python",
   "pygments_lexer": "ipython3",
   "version": "3.10.2"
  },
  "orig_nbformat": 4
 },
 "nbformat": 4,
 "nbformat_minor": 2
}
