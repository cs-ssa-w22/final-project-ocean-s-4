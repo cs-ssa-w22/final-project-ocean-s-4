{
 "cells": [
  {
   "cell_type": "code",
   "execution_count": 2,
   "metadata": {},
   "outputs": [],
   "source": [
    "import pandas as pd\n",
    "import numpy as np\n",
    "from geopy.geocoders import Nominatim"
   ]
  },
  {
   "cell_type": "code",
   "execution_count": 30,
   "metadata": {},
   "outputs": [],
   "source": [
    "## load fips csv\n",
    "fips = pd.read_csv(\"fips2county.tsv\", sep='\\t', dtype={'CountyFIPS_3': 'string'} )\n",
    "fips['fips_code']= fips['CountyFIPS'].astype(int)"
   ]
  },
  {
   "cell_type": "code",
   "execution_count": 31,
   "metadata": {},
   "outputs": [
    {
     "data": {
      "text/html": [
       "<div>\n",
       "<style scoped>\n",
       "    .dataframe tbody tr th:only-of-type {\n",
       "        vertical-align: middle;\n",
       "    }\n",
       "\n",
       "    .dataframe tbody tr th {\n",
       "        vertical-align: top;\n",
       "    }\n",
       "\n",
       "    .dataframe thead th {\n",
       "        text-align: right;\n",
       "    }\n",
       "</style>\n",
       "<table border=\"1\" class=\"dataframe\">\n",
       "  <thead>\n",
       "    <tr style=\"text-align: right;\">\n",
       "      <th></th>\n",
       "      <th>StateFIPS</th>\n",
       "      <th>CountyFIPS_3</th>\n",
       "      <th>CountyName</th>\n",
       "      <th>StateName</th>\n",
       "      <th>CountyFIPS</th>\n",
       "      <th>StateAbbr</th>\n",
       "      <th>STATE-COUNTY</th>\n",
       "      <th>fips_code</th>\n",
       "    </tr>\n",
       "  </thead>\n",
       "  <tbody>\n",
       "    <tr>\n",
       "      <th>0</th>\n",
       "      <td>1</td>\n",
       "      <td>001</td>\n",
       "      <td>Autauga</td>\n",
       "      <td>Alabama</td>\n",
       "      <td>1001</td>\n",
       "      <td>AL</td>\n",
       "      <td>AL-AUTAUGA</td>\n",
       "      <td>1001</td>\n",
       "    </tr>\n",
       "    <tr>\n",
       "      <th>1</th>\n",
       "      <td>1</td>\n",
       "      <td>003</td>\n",
       "      <td>Baldwin</td>\n",
       "      <td>Alabama</td>\n",
       "      <td>1003</td>\n",
       "      <td>AL</td>\n",
       "      <td>AL-BALDWIN</td>\n",
       "      <td>1003</td>\n",
       "    </tr>\n",
       "    <tr>\n",
       "      <th>2</th>\n",
       "      <td>1</td>\n",
       "      <td>005</td>\n",
       "      <td>Barbour</td>\n",
       "      <td>Alabama</td>\n",
       "      <td>1005</td>\n",
       "      <td>AL</td>\n",
       "      <td>AL-BARBOUR</td>\n",
       "      <td>1005</td>\n",
       "    </tr>\n",
       "    <tr>\n",
       "      <th>3</th>\n",
       "      <td>1</td>\n",
       "      <td>007</td>\n",
       "      <td>Bibb</td>\n",
       "      <td>Alabama</td>\n",
       "      <td>1007</td>\n",
       "      <td>AL</td>\n",
       "      <td>AL-BIBB</td>\n",
       "      <td>1007</td>\n",
       "    </tr>\n",
       "    <tr>\n",
       "      <th>4</th>\n",
       "      <td>1</td>\n",
       "      <td>009</td>\n",
       "      <td>Blount</td>\n",
       "      <td>Alabama</td>\n",
       "      <td>1009</td>\n",
       "      <td>AL</td>\n",
       "      <td>AL-BLOUNT</td>\n",
       "      <td>1009</td>\n",
       "    </tr>\n",
       "    <tr>\n",
       "      <th>...</th>\n",
       "      <td>...</td>\n",
       "      <td>...</td>\n",
       "      <td>...</td>\n",
       "      <td>...</td>\n",
       "      <td>...</td>\n",
       "      <td>...</td>\n",
       "      <td>...</td>\n",
       "      <td>...</td>\n",
       "    </tr>\n",
       "    <tr>\n",
       "      <th>3137</th>\n",
       "      <td>56</td>\n",
       "      <td>037</td>\n",
       "      <td>Sweetwater</td>\n",
       "      <td>Wyoming</td>\n",
       "      <td>56037</td>\n",
       "      <td>WY</td>\n",
       "      <td>WY-SWEETWATER</td>\n",
       "      <td>56037</td>\n",
       "    </tr>\n",
       "    <tr>\n",
       "      <th>3138</th>\n",
       "      <td>56</td>\n",
       "      <td>039</td>\n",
       "      <td>Teton</td>\n",
       "      <td>Wyoming</td>\n",
       "      <td>56039</td>\n",
       "      <td>WY</td>\n",
       "      <td>WY-TETON</td>\n",
       "      <td>56039</td>\n",
       "    </tr>\n",
       "    <tr>\n",
       "      <th>3139</th>\n",
       "      <td>56</td>\n",
       "      <td>041</td>\n",
       "      <td>Uinta</td>\n",
       "      <td>Wyoming</td>\n",
       "      <td>56041</td>\n",
       "      <td>WY</td>\n",
       "      <td>WY-UINTA</td>\n",
       "      <td>56041</td>\n",
       "    </tr>\n",
       "    <tr>\n",
       "      <th>3140</th>\n",
       "      <td>56</td>\n",
       "      <td>043</td>\n",
       "      <td>Washakie</td>\n",
       "      <td>Wyoming</td>\n",
       "      <td>56043</td>\n",
       "      <td>WY</td>\n",
       "      <td>WY-WASHAKIE</td>\n",
       "      <td>56043</td>\n",
       "    </tr>\n",
       "    <tr>\n",
       "      <th>3141</th>\n",
       "      <td>56</td>\n",
       "      <td>045</td>\n",
       "      <td>Weston</td>\n",
       "      <td>Wyoming</td>\n",
       "      <td>56045</td>\n",
       "      <td>WY</td>\n",
       "      <td>WY-WESTON</td>\n",
       "      <td>56045</td>\n",
       "    </tr>\n",
       "  </tbody>\n",
       "</table>\n",
       "<p>3142 rows × 8 columns</p>\n",
       "</div>"
      ],
      "text/plain": [
       "      StateFIPS CountyFIPS_3  CountyName StateName  CountyFIPS StateAbbr  \\\n",
       "0             1          001     Autauga   Alabama        1001        AL   \n",
       "1             1          003     Baldwin   Alabama        1003        AL   \n",
       "2             1          005     Barbour   Alabama        1005        AL   \n",
       "3             1          007        Bibb   Alabama        1007        AL   \n",
       "4             1          009      Blount   Alabama        1009        AL   \n",
       "...         ...          ...         ...       ...         ...       ...   \n",
       "3137         56          037  Sweetwater   Wyoming       56037        WY   \n",
       "3138         56          039       Teton   Wyoming       56039        WY   \n",
       "3139         56          041       Uinta   Wyoming       56041        WY   \n",
       "3140         56          043    Washakie   Wyoming       56043        WY   \n",
       "3141         56          045      Weston   Wyoming       56045        WY   \n",
       "\n",
       "       STATE-COUNTY  fips_code  \n",
       "0        AL-AUTAUGA       1001  \n",
       "1        AL-BALDWIN       1003  \n",
       "2        AL-BARBOUR       1005  \n",
       "3           AL-BIBB       1007  \n",
       "4         AL-BLOUNT       1009  \n",
       "...             ...        ...  \n",
       "3137  WY-SWEETWATER      56037  \n",
       "3138       WY-TETON      56039  \n",
       "3139       WY-UINTA      56041  \n",
       "3140    WY-WASHAKIE      56043  \n",
       "3141      WY-WESTON      56045  \n",
       "\n",
       "[3142 rows x 8 columns]"
      ]
     },
     "execution_count": 31,
     "metadata": {},
     "output_type": "execute_result"
    }
   ],
   "source": [
    "fips.fips_code"
   ]
  },
  {
   "cell_type": "code",
   "execution_count": 4,
   "metadata": {},
   "outputs": [],
   "source": [
    "school = 'University of California, Riverside' # change to your school's name"
   ]
  },
  {
   "cell_type": "code",
   "execution_count": 181,
   "metadata": {},
   "outputs": [],
   "source": [
    "df = pd.read_csv(school + '.csv') "
   ]
  },
  {
   "cell_type": "code",
   "execution_count": 182,
   "metadata": {},
   "outputs": [],
   "source": [
    "# drop redundant column (if your data frame doesn't have 'Unnamed: 0', don't run this)\n",
    "df = df.drop(columns =['Unnamed: 0'])"
   ]
  },
  {
   "cell_type": "code",
   "execution_count": 183,
   "metadata": {},
   "outputs": [],
   "source": [
    "# drop duplicates\n",
    "df = df.drop_duplicates()"
   ]
  },
  {
   "cell_type": "code",
   "execution_count": 184,
   "metadata": {},
   "outputs": [
    {
     "data": {
      "text/plain": [
       "0       False\n",
       "1       False\n",
       "2       False\n",
       "3       False\n",
       "4       False\n",
       "        ...  \n",
       "3260    False\n",
       "3264    False\n",
       "3273    False\n",
       "3276    False\n",
       "3282    False\n",
       "Length: 2202, dtype: bool"
      ]
     },
     "execution_count": 184,
     "metadata": {},
     "output_type": "execute_result"
    }
   ],
   "source": [
    "df.duplicated()"
   ]
  },
  {
   "cell_type": "code",
   "execution_count": 185,
   "metadata": {},
   "outputs": [],
   "source": [
    "#rename 'majro' to 'major'\n",
    "df = df.rename(columns={'majro':'major'})"
   ]
  },
  {
   "cell_type": "code",
   "execution_count": 186,
   "metadata": {},
   "outputs": [
    {
     "name": "stdout",
     "output_type": "stream",
     "text": [
      "<class 'pandas.core.frame.DataFrame'>\n",
      "Int64Index: 2202 entries, 0 to 3282\n",
      "Data columns (total 6 columns):\n",
      " #   Column            Non-Null Count  Dtype \n",
      "---  ------            --------------  ----- \n",
      " 0   current_location  2202 non-null   object\n",
      " 1   current_work      2165 non-null   object\n",
      " 2   previous_work     2139 non-null   object\n",
      " 3   latest_Education  2202 non-null   object\n",
      " 4   major             2052 non-null   object\n",
      " 5   search_school     2202 non-null   object\n",
      "dtypes: object(6)\n",
      "memory usage: 120.4+ KB\n"
     ]
    }
   ],
   "source": [
    "df.info()"
   ]
  },
  {
   "cell_type": "code",
   "execution_count": 187,
   "metadata": {},
   "outputs": [],
   "source": [
    "# replace wrong locations(string 'connections' in them) to nulls\n",
    "no_value = df.current_location.str.contains('connections') \n",
    "df.loc[no_value,'current_location'] = np.NAN\n",
    "\n",
    "# remove some strings not identified by geocode (!you can add more depending on your data)\n",
    "l = ['Metropolitan','Area', 'Township of', 'Region', 'Greater', 'Metroplex', 'District']\n",
    "df['current_location'] = df['current_location'].str.replace('|'.join(l), '', regex=True)\n",
    "\n",
    "geolocator = Nominatim(user_agent=\"course_project\")"
   ]
  },
  {
   "cell_type": "code",
   "execution_count": 188,
   "metadata": {},
   "outputs": [],
   "source": [
    "# generate a dictionary mapping unique locations to corresponding coordinates (4 mins)\n",
    "coor = {}\n",
    "state = {}\n",
    "county = {}\n",
    "city = {}\n",
    "unique_locs = df.current_location.unique()\n",
    "for loc in unique_locs:\n",
    "    location = geolocator.geocode(loc, timeout = 600,addressdetails=True)\n",
    "    if pd.isna(location) or pd.isna(loc):\n",
    "        coor[loc] = np.NAN\n",
    "        state[loc] = np.NAN\n",
    "        county[loc] = np.NAN\n",
    "        city[loc] = np.NAN\n",
    "    else:\n",
    "        coor[loc] = (location.latitude, location.longitude)\n",
    "        try:\n",
    "            state[loc] = location.raw['address']['state']\n",
    "        except:\n",
    "            state[loc] = np.NAN\n",
    "        try:\n",
    "            county[loc] = location.raw['address']['county'].rsplit(' ',1)[0]\n",
    "        except:\n",
    "            county[loc] = np.NAN\n",
    "        try:\n",
    "            city[loc] = location.raw['address']['city']\n",
    "        except:\n",
    "            city[loc] = np.NAN"
   ]
  },
  {
   "cell_type": "code",
   "execution_count": 189,
   "metadata": {},
   "outputs": [],
   "source": [
    "df['coordinate'] = df.apply(lambda row: coor[row.current_location], axis =1)\n",
    "df['state'] = df.apply(lambda row: state[row.current_location], axis =1)\n",
    "df['county'] = df.apply(lambda row: county[row.current_location], axis =1)\n",
    "df['city'] = df.apply(lambda row: city[row.current_location], axis =1)"
   ]
  },
  {
   "cell_type": "code",
   "execution_count": 190,
   "metadata": {},
   "outputs": [],
   "source": [
    "def mapping(row):\n",
    "    ''' map state-county to fips code\n",
    "    '''\n",
    "    if row[['county','state']].notnull().all():\n",
    "        x = fips[(fips.CountyName==row.county) & (fips.StateName==row.state)]['fips_code'].values.tolist()\n",
    "        if x !=[]:\n",
    "            return int(x[0])\n",
    "    else:\n",
    "        try:\n",
    "            x = fips[(fips.CountyName==row.city) & (fips.StateName==row.state)]['fips_code'].values.tolist()\n",
    "            if x !=[]:\n",
    "                return int(x[0])\n",
    "        except:\n",
    "            pass   \n",
    "    return None"
   ]
  },
  {
   "cell_type": "code",
   "execution_count": 191,
   "metadata": {},
   "outputs": [],
   "source": [
    "df['fips'] = df.apply(mapping, axis=1)\n",
    "df['fips']  = df['fips'] .astype(pd.Int64Dtype())"
   ]
  },
  {
   "cell_type": "code",
   "execution_count": 192,
   "metadata": {},
   "outputs": [
    {
     "name": "stdout",
     "output_type": "stream",
     "text": [
      "<class 'pandas.core.frame.DataFrame'>\n",
      "Int64Index: 2202 entries, 0 to 3282\n",
      "Data columns (total 11 columns):\n",
      " #   Column            Non-Null Count  Dtype \n",
      "---  ------            --------------  ----- \n",
      " 0   current_location  2025 non-null   object\n",
      " 1   current_work      2165 non-null   object\n",
      " 2   previous_work     2139 non-null   object\n",
      " 3   latest_Education  2202 non-null   object\n",
      " 4   major             2052 non-null   object\n",
      " 5   search_school     2202 non-null   object\n",
      " 6   coordinate        2020 non-null   object\n",
      " 7   state             1918 non-null   object\n",
      " 8   county            1740 non-null   object\n",
      " 9   city              1420 non-null   object\n",
      " 10  fips              1752 non-null   Int64 \n",
      "dtypes: Int64(1), object(10)\n",
      "memory usage: 208.6+ KB\n"
     ]
    }
   ],
   "source": [
    "df.info()"
   ]
  },
  {
   "cell_type": "code",
   "execution_count": 196,
   "metadata": {},
   "outputs": [],
   "source": [
    "## save to a new csv file!!!\n",
    "df.to_csv(school + '_with_fips.csv')"
   ]
  },
  {
   "cell_type": "code",
   "execution_count": 193,
   "metadata": {},
   "outputs": [
    {
     "data": {
      "text/plain": [
       "Location(Frankfurter Straße, Urdenbach, Stadtbezirk 9, Düsseldorf, Nordrhein-Westfalen, 40593, Deutschland, (51.1549523, 6.8854454, 0.0))"
      ]
     },
     "execution_count": 193,
     "metadata": {},
     "output_type": "execute_result"
    }
   ],
   "source": [
    "# bugfix (optional)\n",
    "#check a specific location\n",
    "location = geolocator.geocode('Frankfurt Rhine', timeout = 600)\n",
    "location"
   ]
  },
  {
   "cell_type": "code",
   "execution_count": 194,
   "metadata": {},
   "outputs": [
    {
     "data": {
      "text/html": [
       "<div>\n",
       "<style scoped>\n",
       "    .dataframe tbody tr th:only-of-type {\n",
       "        vertical-align: middle;\n",
       "    }\n",
       "\n",
       "    .dataframe tbody tr th {\n",
       "        vertical-align: top;\n",
       "    }\n",
       "\n",
       "    .dataframe thead th {\n",
       "        text-align: right;\n",
       "    }\n",
       "</style>\n",
       "<table border=\"1\" class=\"dataframe\">\n",
       "  <thead>\n",
       "    <tr style=\"text-align: right;\">\n",
       "      <th></th>\n",
       "      <th>current_location</th>\n",
       "      <th>current_work</th>\n",
       "      <th>previous_work</th>\n",
       "      <th>latest_Education</th>\n",
       "      <th>major</th>\n",
       "      <th>search_school</th>\n",
       "      <th>coordinate</th>\n",
       "      <th>state</th>\n",
       "      <th>county</th>\n",
       "      <th>city</th>\n",
       "      <th>fips</th>\n",
       "    </tr>\n",
       "  </thead>\n",
       "  <tbody>\n",
       "    <tr>\n",
       "      <th>337</th>\n",
       "      <td>Greenville-Spartanburg-Anderson, South Carolina</td>\n",
       "      <td>President/Owner, Financial Advisor, CFP®, CRPC...</td>\n",
       "      <td>Vice President, Financial Advisor, CFP®, CRPC®...</td>\n",
       "      <td>University of South Carolina - The Moore Schoo...</td>\n",
       "      <td>Brazil/Portuguese</td>\n",
       "      <td>University of California, Riverside</td>\n",
       "      <td>NaN</td>\n",
       "      <td>NaN</td>\n",
       "      <td>NaN</td>\n",
       "      <td>NaN</td>\n",
       "      <td>&lt;NA&gt;</td>\n",
       "    </tr>\n",
       "    <tr>\n",
       "      <th>548</th>\n",
       "      <td>Frankfurt Rhine-Main</td>\n",
       "      <td>Head of Banking and Partner Strategy and Execu...</td>\n",
       "      <td>Senior Adviser at Holland FinTech</td>\n",
       "      <td>University of   California, Riverside</td>\n",
       "      <td>German Language and Literature</td>\n",
       "      <td>University of California, Riverside</td>\n",
       "      <td>NaN</td>\n",
       "      <td>NaN</td>\n",
       "      <td>NaN</td>\n",
       "      <td>NaN</td>\n",
       "      <td>&lt;NA&gt;</td>\n",
       "    </tr>\n",
       "    <tr>\n",
       "      <th>1001</th>\n",
       "      <td>Ezana is a startup entrepreneur currently prom...</td>\n",
       "      <td>CEO at Afri Kash</td>\n",
       "      <td>Service Management Officer at United Nations</td>\n",
       "      <td>University of California, Riverside</td>\n",
       "      <td>Political Science</td>\n",
       "      <td>University of California, Riverside</td>\n",
       "      <td>NaN</td>\n",
       "      <td>NaN</td>\n",
       "      <td>NaN</td>\n",
       "      <td>NaN</td>\n",
       "      <td>&lt;NA&gt;</td>\n",
       "    </tr>\n",
       "    <tr>\n",
       "      <th>1013</th>\n",
       "      <td>Laila Mickelwait is the Founder and CEO of the...</td>\n",
       "      <td>Founder/CEO at Justice Defense Fund</td>\n",
       "      <td>Founder at New Reality International</td>\n",
       "      <td>University of Southern California</td>\n",
       "      <td>Public Diplomacy</td>\n",
       "      <td>University of California, Riverside</td>\n",
       "      <td>NaN</td>\n",
       "      <td>NaN</td>\n",
       "      <td>NaN</td>\n",
       "      <td>NaN</td>\n",
       "      <td>&lt;NA&gt;</td>\n",
       "    </tr>\n",
       "    <tr>\n",
       "      <th>1782</th>\n",
       "      <td>CEO at Cyphen Limited</td>\n",
       "      <td>CEO at Cyphen Limited</td>\n",
       "      <td>NaN</td>\n",
       "      <td>Peking University</td>\n",
       "      <td>国际经济</td>\n",
       "      <td>University of California, Riverside</td>\n",
       "      <td>NaN</td>\n",
       "      <td>NaN</td>\n",
       "      <td>NaN</td>\n",
       "      <td>NaN</td>\n",
       "      <td>&lt;NA&gt;</td>\n",
       "    </tr>\n",
       "  </tbody>\n",
       "</table>\n",
       "</div>"
      ],
      "text/plain": [
       "                                       current_location  \\\n",
       "337    Greenville-Spartanburg-Anderson, South Carolina    \n",
       "548                              Frankfurt Rhine-Main     \n",
       "1001  Ezana is a startup entrepreneur currently prom...   \n",
       "1013  Laila Mickelwait is the Founder and CEO of the...   \n",
       "1782                              CEO at Cyphen Limited   \n",
       "\n",
       "                                           current_work  \\\n",
       "337   President/Owner, Financial Advisor, CFP®, CRPC...   \n",
       "548   Head of Banking and Partner Strategy and Execu...   \n",
       "1001                                   CEO at Afri Kash   \n",
       "1013                Founder/CEO at Justice Defense Fund   \n",
       "1782                              CEO at Cyphen Limited   \n",
       "\n",
       "                                          previous_work  \\\n",
       "337   Vice President, Financial Advisor, CFP®, CRPC®...   \n",
       "548                   Senior Adviser at Holland FinTech   \n",
       "1001       Service Management Officer at United Nations   \n",
       "1013               Founder at New Reality International   \n",
       "1782                                                NaN   \n",
       "\n",
       "                                       latest_Education  \\\n",
       "337   University of South Carolina - The Moore Schoo...   \n",
       "548               University of   California, Riverside   \n",
       "1001                University of California, Riverside   \n",
       "1013                  University of Southern California   \n",
       "1782                                  Peking University   \n",
       "\n",
       "                               major                        search_school  \\\n",
       "337                Brazil/Portuguese  University of California, Riverside   \n",
       "548   German Language and Literature  University of California, Riverside   \n",
       "1001               Political Science  University of California, Riverside   \n",
       "1013                Public Diplomacy  University of California, Riverside   \n",
       "1782                            国际经济  University of California, Riverside   \n",
       "\n",
       "     coordinate state county city  fips  \n",
       "337         NaN   NaN    NaN  NaN  <NA>  \n",
       "548         NaN   NaN    NaN  NaN  <NA>  \n",
       "1001        NaN   NaN    NaN  NaN  <NA>  \n",
       "1013        NaN   NaN    NaN  NaN  <NA>  \n",
       "1782        NaN   NaN    NaN  NaN  <NA>  "
      ]
     },
     "execution_count": 194,
     "metadata": {},
     "output_type": "execute_result"
    }
   ],
   "source": [
    "#check NAN values and revise current locations to be searchable (change/add more strings to remove in l)\n",
    "df[(df.coordinate.isna()) & (df.current_location.notna())]"
   ]
  }
 ],
 "metadata": {
  "interpreter": {
   "hash": "4e44c95577c5c07fd4c004a76bf84c62558203d4d2c850629ef860a89bb137ad"
  },
  "kernelspec": {
   "display_name": "Python 3.10.2 64-bit (windows store)",
   "language": "python",
   "name": "python3"
  },
  "language_info": {
   "codemirror_mode": {
    "name": "ipython",
    "version": 3
   },
   "file_extension": ".py",
   "mimetype": "text/x-python",
   "name": "python",
   "nbconvert_exporter": "python",
   "pygments_lexer": "ipython3",
   "version": "3.10.2"
  },
  "orig_nbformat": 4
 },
 "nbformat": 4,
 "nbformat_minor": 2
}
