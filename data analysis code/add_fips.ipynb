{
 "cells": [
  {
   "cell_type": "code",
   "execution_count": 1,
   "metadata": {},
   "outputs": [],
   "source": [
    "import pandas as pd\n",
    "import numpy as np\n",
    "from geopy.geocoders import Nominatim"
   ]
  },
  {
   "cell_type": "code",
   "execution_count": 2,
   "metadata": {},
   "outputs": [],
   "source": [
    "## load fips csv\n",
    "fips = pd.read_csv(\"fips2county.tsv\", sep='\\t', dtype={'CountyFIPS_3': 'string'} )\n",
    "fips['fips_code']= fips['CountyFIPS'].astype(str)"
   ]
  },
  {
   "cell_type": "code",
   "execution_count": 3,
   "metadata": {},
   "outputs": [
    {
     "data": {
      "text/plain": [
       "0       4\n",
       "1       4\n",
       "2       4\n",
       "3       4\n",
       "4       4\n",
       "       ..\n",
       "3137    5\n",
       "3138    5\n",
       "3139    5\n",
       "3140    5\n",
       "3141    5\n",
       "Name: fips_code, Length: 3142, dtype: int64"
      ]
     },
     "execution_count": 3,
     "metadata": {},
     "output_type": "execute_result"
    }
   ],
   "source": [
    "fips['fips_code'].str.len()"
   ]
  },
  {
   "cell_type": "code",
   "execution_count": 4,
   "metadata": {},
   "outputs": [],
   "source": [
    "fips.loc[fips['fips_code'].str.len() == 4, ['fips_code']] = '0' + fips['fips_code'][fips['fips_code'].str.len() == 4]"
   ]
  },
  {
   "cell_type": "code",
   "execution_count": 27,
   "metadata": {},
   "outputs": [
    {
     "data": {
      "text/plain": [
       "0       01001\n",
       "1       01003\n",
       "2       01005\n",
       "3       01007\n",
       "4       01009\n",
       "        ...  \n",
       "3137    56037\n",
       "3138    56039\n",
       "3139    56041\n",
       "3140    56043\n",
       "3141    56045\n",
       "Name: fips_code, Length: 3142, dtype: object"
      ]
     },
     "execution_count": 27,
     "metadata": {},
     "output_type": "execute_result"
    }
   ],
   "source": [
    "fips.fips_code"
   ]
  },
  {
   "cell_type": "code",
   "execution_count": 7,
   "metadata": {},
   "outputs": [],
   "source": [
    "school = 'data/University of California, Riverside' # change to your school's name"
   ]
  },
  {
   "cell_type": "code",
   "execution_count": 8,
   "metadata": {},
   "outputs": [],
   "source": [
    "df = pd.read_csv(school + '_clean.csv') "
   ]
  },
  {
   "cell_type": "code",
   "execution_count": 9,
   "metadata": {},
   "outputs": [
    {
     "name": "stdout",
     "output_type": "stream",
     "text": [
      "<class 'pandas.core.frame.DataFrame'>\n",
      "RangeIndex: 2202 entries, 0 to 2201\n",
      "Data columns (total 7 columns):\n",
      " #   Column            Non-Null Count  Dtype \n",
      "---  ------            --------------  ----- \n",
      " 0   Unnamed: 0        2202 non-null   int64 \n",
      " 1   current_location  2202 non-null   object\n",
      " 2   current_work      2165 non-null   object\n",
      " 3   previous_work     2139 non-null   object\n",
      " 4   latest_Education  2202 non-null   object\n",
      " 5   major             2052 non-null   object\n",
      " 6   search_school     2202 non-null   object\n",
      "dtypes: int64(1), object(6)\n",
      "memory usage: 120.5+ KB\n"
     ]
    }
   ],
   "source": [
    "df.info()"
   ]
  },
  {
   "cell_type": "code",
   "execution_count": 10,
   "metadata": {},
   "outputs": [],
   "source": [
    "# replace wrong locations(string 'connections' in them) to nulls\n",
    "no_value = df.current_location.str.contains('connections') \n",
    "df.loc[no_value,'current_location'] = np.NAN\n",
    "\n",
    "# remove some strings not identified by geocode (!you can add more depending on your data)\n",
    "l = ['Metropolitan','Area', 'Township of', 'Region', 'Greater', 'Metroplex', 'District']\n",
    "df['current_location'] = df['current_location'].str.replace('|'.join(l), '', regex=True)\n",
    "\n",
    "geolocator = Nominatim(user_agent=\"course_project\")"
   ]
  },
  {
   "cell_type": "code",
   "execution_count": 11,
   "metadata": {},
   "outputs": [],
   "source": [
    "# generate a dictionary mapping unique locations to corresponding coordinates (4 mins)\n",
    "coor = {}\n",
    "state = {}\n",
    "county = {}\n",
    "city = {}\n",
    "unique_locs = df.current_location.unique()\n",
    "for loc in unique_locs:\n",
    "    location = geolocator.geocode(loc, timeout = 600,addressdetails=True)\n",
    "    if pd.isna(location) or pd.isna(loc):\n",
    "        coor[loc] = np.NAN\n",
    "        state[loc] = np.NAN\n",
    "        county[loc] = np.NAN\n",
    "        city[loc] = np.NAN\n",
    "    else:\n",
    "        coor[loc] = (location.latitude, location.longitude)\n",
    "        try:\n",
    "            state[loc] = location.raw['address']['state']\n",
    "        except:\n",
    "            state[loc] = np.NAN\n",
    "        try:\n",
    "            county[loc] = location.raw['address']['county'].rsplit(' ',1)[0]\n",
    "        except:\n",
    "            county[loc] = np.NAN\n",
    "        try:\n",
    "            city[loc] = location.raw['address']['city']\n",
    "        except:\n",
    "            city[loc] = np.NAN"
   ]
  },
  {
   "cell_type": "code",
   "execution_count": 12,
   "metadata": {},
   "outputs": [],
   "source": [
    "df['coordinate'] = df.apply(lambda row: coor[row.current_location], axis =1)\n",
    "df['state'] = df.apply(lambda row: state[row.current_location], axis =1)\n",
    "df['county'] = df.apply(lambda row: county[row.current_location], axis =1)\n",
    "df['city'] = df.apply(lambda row: city[row.current_location], axis =1)"
   ]
  },
  {
   "cell_type": "code",
   "execution_count": 28,
   "metadata": {},
   "outputs": [],
   "source": [
    "def mapping(row):\n",
    "    ''' map state-county to fips code\n",
    "    '''\n",
    "    if row[['county','state']].notnull().all():\n",
    "        x = fips[(fips.CountyName==row.county) & (fips.StateName==row.state)]['fips_code'].values.tolist()\n",
    "        if x !=[]:\n",
    "            return str(x[0])\n",
    "    else:\n",
    "        try:\n",
    "            x = fips[(fips.CountyName==row.city) & (fips.StateName==row.state)]['fips_code'].values.tolist()\n",
    "            if x !=[]:\n",
    "                return str(x[0])\n",
    "        except:\n",
    "            pass   \n",
    "    return np.nan"
   ]
  },
  {
   "cell_type": "code",
   "execution_count": 29,
   "metadata": {},
   "outputs": [],
   "source": [
    "df['fips'] = df.apply(mapping, axis=1)\n",
    "df['fips']  = df['fips'] .astype(str)"
   ]
  },
  {
   "cell_type": "code",
   "execution_count": 21,
   "metadata": {},
   "outputs": [
    {
     "ename": "KeyError",
     "evalue": "\"['Unnamed: 0'] not found in axis\"",
     "output_type": "error",
     "traceback": [
      "\u001b[1;31m---------------------------------------------------------------------------\u001b[0m",
      "\u001b[1;31mKeyError\u001b[0m                                  Traceback (most recent call last)",
      "\u001b[1;32mc:\\Users\\dell\\Desktop\\30122\\final-project-ocean-s-4\\data analysis code\\add_fips.ipynb Cell 14'\u001b[0m in \u001b[0;36m<module>\u001b[1;34m\u001b[0m\n\u001b[1;32m----> <a href='vscode-notebook-cell:/c%3A/Users/dell/Desktop/30122/final-project-ocean-s-4/data%20analysis%20code/add_fips.ipynb#ch0000014?line=0'>1</a>\u001b[0m df \u001b[39m=\u001b[39m df\u001b[39m.\u001b[39;49mdrop(columns\u001b[39m=\u001b[39;49m[\u001b[39m'\u001b[39;49m\u001b[39mUnnamed: 0\u001b[39;49m\u001b[39m'\u001b[39;49m])\n",
      "File \u001b[1;32m~\\AppData\\Local\\Programs\\Python\\Python310\\lib\\site-packages\\pandas\\util\\_decorators.py:311\u001b[0m, in \u001b[0;36mdeprecate_nonkeyword_arguments.<locals>.decorate.<locals>.wrapper\u001b[1;34m(*args, **kwargs)\u001b[0m\n\u001b[0;32m    <a href='file:///~/AppData/Local/Programs/Python/Python310/lib/site-packages/pandas/util/_decorators.py?line=304'>305</a>\u001b[0m \u001b[39mif\u001b[39;00m \u001b[39mlen\u001b[39m(args) \u001b[39m>\u001b[39m num_allow_args:\n\u001b[0;32m    <a href='file:///~/AppData/Local/Programs/Python/Python310/lib/site-packages/pandas/util/_decorators.py?line=305'>306</a>\u001b[0m     warnings\u001b[39m.\u001b[39mwarn(\n\u001b[0;32m    <a href='file:///~/AppData/Local/Programs/Python/Python310/lib/site-packages/pandas/util/_decorators.py?line=306'>307</a>\u001b[0m         msg\u001b[39m.\u001b[39mformat(arguments\u001b[39m=\u001b[39marguments),\n\u001b[0;32m    <a href='file:///~/AppData/Local/Programs/Python/Python310/lib/site-packages/pandas/util/_decorators.py?line=307'>308</a>\u001b[0m         \u001b[39mFutureWarning\u001b[39;00m,\n\u001b[0;32m    <a href='file:///~/AppData/Local/Programs/Python/Python310/lib/site-packages/pandas/util/_decorators.py?line=308'>309</a>\u001b[0m         stacklevel\u001b[39m=\u001b[39mstacklevel,\n\u001b[0;32m    <a href='file:///~/AppData/Local/Programs/Python/Python310/lib/site-packages/pandas/util/_decorators.py?line=309'>310</a>\u001b[0m     )\n\u001b[1;32m--> <a href='file:///~/AppData/Local/Programs/Python/Python310/lib/site-packages/pandas/util/_decorators.py?line=310'>311</a>\u001b[0m \u001b[39mreturn\u001b[39;00m func(\u001b[39m*\u001b[39margs, \u001b[39m*\u001b[39m\u001b[39m*\u001b[39mkwargs)\n",
      "File \u001b[1;32m~\\AppData\\Local\\Programs\\Python\\Python310\\lib\\site-packages\\pandas\\core\\frame.py:4906\u001b[0m, in \u001b[0;36mDataFrame.drop\u001b[1;34m(self, labels, axis, index, columns, level, inplace, errors)\u001b[0m\n\u001b[0;32m   <a href='file:///~/AppData/Local/Programs/Python/Python310/lib/site-packages/pandas/core/frame.py?line=4773'>4774</a>\u001b[0m \u001b[39m@deprecate_nonkeyword_arguments\u001b[39m(version\u001b[39m=\u001b[39m\u001b[39mNone\u001b[39;00m, allowed_args\u001b[39m=\u001b[39m[\u001b[39m\"\u001b[39m\u001b[39mself\u001b[39m\u001b[39m\"\u001b[39m, \u001b[39m\"\u001b[39m\u001b[39mlabels\u001b[39m\u001b[39m\"\u001b[39m])\n\u001b[0;32m   <a href='file:///~/AppData/Local/Programs/Python/Python310/lib/site-packages/pandas/core/frame.py?line=4774'>4775</a>\u001b[0m \u001b[39mdef\u001b[39;00m \u001b[39mdrop\u001b[39m(\n\u001b[0;32m   <a href='file:///~/AppData/Local/Programs/Python/Python310/lib/site-packages/pandas/core/frame.py?line=4775'>4776</a>\u001b[0m     \u001b[39mself\u001b[39m,\n\u001b[1;32m   (...)\u001b[0m\n\u001b[0;32m   <a href='file:///~/AppData/Local/Programs/Python/Python310/lib/site-packages/pandas/core/frame.py?line=4782'>4783</a>\u001b[0m     errors: \u001b[39mstr\u001b[39m \u001b[39m=\u001b[39m \u001b[39m\"\u001b[39m\u001b[39mraise\u001b[39m\u001b[39m\"\u001b[39m,\n\u001b[0;32m   <a href='file:///~/AppData/Local/Programs/Python/Python310/lib/site-packages/pandas/core/frame.py?line=4783'>4784</a>\u001b[0m ):\n\u001b[0;32m   <a href='file:///~/AppData/Local/Programs/Python/Python310/lib/site-packages/pandas/core/frame.py?line=4784'>4785</a>\u001b[0m     \u001b[39m\"\"\"\u001b[39;00m\n\u001b[0;32m   <a href='file:///~/AppData/Local/Programs/Python/Python310/lib/site-packages/pandas/core/frame.py?line=4785'>4786</a>\u001b[0m \u001b[39m    Drop specified labels from rows or columns.\u001b[39;00m\n\u001b[0;32m   <a href='file:///~/AppData/Local/Programs/Python/Python310/lib/site-packages/pandas/core/frame.py?line=4786'>4787</a>\u001b[0m \n\u001b[1;32m   (...)\u001b[0m\n\u001b[0;32m   <a href='file:///~/AppData/Local/Programs/Python/Python310/lib/site-packages/pandas/core/frame.py?line=4903'>4904</a>\u001b[0m \u001b[39m            weight  1.0     0.8\u001b[39;00m\n\u001b[0;32m   <a href='file:///~/AppData/Local/Programs/Python/Python310/lib/site-packages/pandas/core/frame.py?line=4904'>4905</a>\u001b[0m \u001b[39m    \"\"\"\u001b[39;00m\n\u001b[1;32m-> <a href='file:///~/AppData/Local/Programs/Python/Python310/lib/site-packages/pandas/core/frame.py?line=4905'>4906</a>\u001b[0m     \u001b[39mreturn\u001b[39;00m \u001b[39msuper\u001b[39;49m()\u001b[39m.\u001b[39;49mdrop(\n\u001b[0;32m   <a href='file:///~/AppData/Local/Programs/Python/Python310/lib/site-packages/pandas/core/frame.py?line=4906'>4907</a>\u001b[0m         labels\u001b[39m=\u001b[39;49mlabels,\n\u001b[0;32m   <a href='file:///~/AppData/Local/Programs/Python/Python310/lib/site-packages/pandas/core/frame.py?line=4907'>4908</a>\u001b[0m         axis\u001b[39m=\u001b[39;49maxis,\n\u001b[0;32m   <a href='file:///~/AppData/Local/Programs/Python/Python310/lib/site-packages/pandas/core/frame.py?line=4908'>4909</a>\u001b[0m         index\u001b[39m=\u001b[39;49mindex,\n\u001b[0;32m   <a href='file:///~/AppData/Local/Programs/Python/Python310/lib/site-packages/pandas/core/frame.py?line=4909'>4910</a>\u001b[0m         columns\u001b[39m=\u001b[39;49mcolumns,\n\u001b[0;32m   <a href='file:///~/AppData/Local/Programs/Python/Python310/lib/site-packages/pandas/core/frame.py?line=4910'>4911</a>\u001b[0m         level\u001b[39m=\u001b[39;49mlevel,\n\u001b[0;32m   <a href='file:///~/AppData/Local/Programs/Python/Python310/lib/site-packages/pandas/core/frame.py?line=4911'>4912</a>\u001b[0m         inplace\u001b[39m=\u001b[39;49minplace,\n\u001b[0;32m   <a href='file:///~/AppData/Local/Programs/Python/Python310/lib/site-packages/pandas/core/frame.py?line=4912'>4913</a>\u001b[0m         errors\u001b[39m=\u001b[39;49merrors,\n\u001b[0;32m   <a href='file:///~/AppData/Local/Programs/Python/Python310/lib/site-packages/pandas/core/frame.py?line=4913'>4914</a>\u001b[0m     )\n",
      "File \u001b[1;32m~\\AppData\\Local\\Programs\\Python\\Python310\\lib\\site-packages\\pandas\\core\\generic.py:4150\u001b[0m, in \u001b[0;36mNDFrame.drop\u001b[1;34m(self, labels, axis, index, columns, level, inplace, errors)\u001b[0m\n\u001b[0;32m   <a href='file:///~/AppData/Local/Programs/Python/Python310/lib/site-packages/pandas/core/generic.py?line=4147'>4148</a>\u001b[0m \u001b[39mfor\u001b[39;00m axis, labels \u001b[39min\u001b[39;00m axes\u001b[39m.\u001b[39mitems():\n\u001b[0;32m   <a href='file:///~/AppData/Local/Programs/Python/Python310/lib/site-packages/pandas/core/generic.py?line=4148'>4149</a>\u001b[0m     \u001b[39mif\u001b[39;00m labels \u001b[39mis\u001b[39;00m \u001b[39mnot\u001b[39;00m \u001b[39mNone\u001b[39;00m:\n\u001b[1;32m-> <a href='file:///~/AppData/Local/Programs/Python/Python310/lib/site-packages/pandas/core/generic.py?line=4149'>4150</a>\u001b[0m         obj \u001b[39m=\u001b[39m obj\u001b[39m.\u001b[39;49m_drop_axis(labels, axis, level\u001b[39m=\u001b[39;49mlevel, errors\u001b[39m=\u001b[39;49merrors)\n\u001b[0;32m   <a href='file:///~/AppData/Local/Programs/Python/Python310/lib/site-packages/pandas/core/generic.py?line=4151'>4152</a>\u001b[0m \u001b[39mif\u001b[39;00m inplace:\n\u001b[0;32m   <a href='file:///~/AppData/Local/Programs/Python/Python310/lib/site-packages/pandas/core/generic.py?line=4152'>4153</a>\u001b[0m     \u001b[39mself\u001b[39m\u001b[39m.\u001b[39m_update_inplace(obj)\n",
      "File \u001b[1;32m~\\AppData\\Local\\Programs\\Python\\Python310\\lib\\site-packages\\pandas\\core\\generic.py:4185\u001b[0m, in \u001b[0;36mNDFrame._drop_axis\u001b[1;34m(self, labels, axis, level, errors)\u001b[0m\n\u001b[0;32m   <a href='file:///~/AppData/Local/Programs/Python/Python310/lib/site-packages/pandas/core/generic.py?line=4182'>4183</a>\u001b[0m         new_axis \u001b[39m=\u001b[39m axis\u001b[39m.\u001b[39mdrop(labels, level\u001b[39m=\u001b[39mlevel, errors\u001b[39m=\u001b[39merrors)\n\u001b[0;32m   <a href='file:///~/AppData/Local/Programs/Python/Python310/lib/site-packages/pandas/core/generic.py?line=4183'>4184</a>\u001b[0m     \u001b[39melse\u001b[39;00m:\n\u001b[1;32m-> <a href='file:///~/AppData/Local/Programs/Python/Python310/lib/site-packages/pandas/core/generic.py?line=4184'>4185</a>\u001b[0m         new_axis \u001b[39m=\u001b[39m axis\u001b[39m.\u001b[39;49mdrop(labels, errors\u001b[39m=\u001b[39;49merrors)\n\u001b[0;32m   <a href='file:///~/AppData/Local/Programs/Python/Python310/lib/site-packages/pandas/core/generic.py?line=4185'>4186</a>\u001b[0m     result \u001b[39m=\u001b[39m \u001b[39mself\u001b[39m\u001b[39m.\u001b[39mreindex(\u001b[39m*\u001b[39m\u001b[39m*\u001b[39m{axis_name: new_axis})\n\u001b[0;32m   <a href='file:///~/AppData/Local/Programs/Python/Python310/lib/site-packages/pandas/core/generic.py?line=4187'>4188</a>\u001b[0m \u001b[39m# Case for non-unique axis\u001b[39;00m\n\u001b[0;32m   <a href='file:///~/AppData/Local/Programs/Python/Python310/lib/site-packages/pandas/core/generic.py?line=4188'>4189</a>\u001b[0m \u001b[39melse\u001b[39;00m:\n",
      "File \u001b[1;32m~\\AppData\\Local\\Programs\\Python\\Python310\\lib\\site-packages\\pandas\\core\\indexes\\base.py:6017\u001b[0m, in \u001b[0;36mIndex.drop\u001b[1;34m(self, labels, errors)\u001b[0m\n\u001b[0;32m   <a href='file:///~/AppData/Local/Programs/Python/Python310/lib/site-packages/pandas/core/indexes/base.py?line=6014'>6015</a>\u001b[0m \u001b[39mif\u001b[39;00m mask\u001b[39m.\u001b[39many():\n\u001b[0;32m   <a href='file:///~/AppData/Local/Programs/Python/Python310/lib/site-packages/pandas/core/indexes/base.py?line=6015'>6016</a>\u001b[0m     \u001b[39mif\u001b[39;00m errors \u001b[39m!=\u001b[39m \u001b[39m\"\u001b[39m\u001b[39mignore\u001b[39m\u001b[39m\"\u001b[39m:\n\u001b[1;32m-> <a href='file:///~/AppData/Local/Programs/Python/Python310/lib/site-packages/pandas/core/indexes/base.py?line=6016'>6017</a>\u001b[0m         \u001b[39mraise\u001b[39;00m \u001b[39mKeyError\u001b[39;00m(\u001b[39mf\u001b[39m\u001b[39m\"\u001b[39m\u001b[39m{\u001b[39;00mlabels[mask]\u001b[39m}\u001b[39;00m\u001b[39m not found in axis\u001b[39m\u001b[39m\"\u001b[39m)\n\u001b[0;32m   <a href='file:///~/AppData/Local/Programs/Python/Python310/lib/site-packages/pandas/core/indexes/base.py?line=6017'>6018</a>\u001b[0m     indexer \u001b[39m=\u001b[39m indexer[\u001b[39m~\u001b[39mmask]\n\u001b[0;32m   <a href='file:///~/AppData/Local/Programs/Python/Python310/lib/site-packages/pandas/core/indexes/base.py?line=6018'>6019</a>\u001b[0m \u001b[39mreturn\u001b[39;00m \u001b[39mself\u001b[39m\u001b[39m.\u001b[39mdelete(indexer)\n",
      "\u001b[1;31mKeyError\u001b[0m: \"['Unnamed: 0'] not found in axis\""
     ]
    }
   ],
   "source": [
    "df = df.drop(columns=['Unnamed: 0'])"
   ]
  },
  {
   "cell_type": "code",
   "execution_count": 32,
   "metadata": {},
   "outputs": [
    {
     "data": {
      "text/plain": [
       "0       06037\n",
       "1       06059\n",
       "2       06075\n",
       "3       48085\n",
       "4       48113\n",
       "        ...  \n",
       "2197    08005\n",
       "2198    06059\n",
       "2199    06059\n",
       "2200    06073\n",
       "2201      nan\n",
       "Name: fips, Length: 2202, dtype: object"
      ]
     },
     "execution_count": 32,
     "metadata": {},
     "output_type": "execute_result"
    }
   ],
   "source": [
    "df.fips"
   ]
  },
  {
   "cell_type": "code",
   "execution_count": 33,
   "metadata": {},
   "outputs": [
    {
     "name": "stdout",
     "output_type": "stream",
     "text": [
      "<class 'pandas.core.frame.DataFrame'>\n",
      "RangeIndex: 2202 entries, 0 to 2201\n",
      "Data columns (total 11 columns):\n",
      " #   Column            Non-Null Count  Dtype \n",
      "---  ------            --------------  ----- \n",
      " 0   current_location  2025 non-null   object\n",
      " 1   current_work      2165 non-null   object\n",
      " 2   previous_work     2139 non-null   object\n",
      " 3   latest_Education  2202 non-null   object\n",
      " 4   major             2052 non-null   object\n",
      " 5   search_school     2202 non-null   object\n",
      " 6   coordinate        2020 non-null   object\n",
      " 7   state             1918 non-null   object\n",
      " 8   county            1740 non-null   object\n",
      " 9   city              1420 non-null   object\n",
      " 10  fips              2202 non-null   object\n",
      "dtypes: object(11)\n",
      "memory usage: 189.4+ KB\n"
     ]
    }
   ],
   "source": [
    "df.info()"
   ]
  },
  {
   "cell_type": "code",
   "execution_count": 34,
   "metadata": {},
   "outputs": [],
   "source": [
    "## save to a new csv file!!!\n",
    "df.to_csv(school + '_with_fips.csv')"
   ]
  },
  {
   "cell_type": "code",
   "execution_count": 193,
   "metadata": {},
   "outputs": [
    {
     "data": {
      "text/plain": [
       "Location(Frankfurter Straße, Urdenbach, Stadtbezirk 9, Düsseldorf, Nordrhein-Westfalen, 40593, Deutschland, (51.1549523, 6.8854454, 0.0))"
      ]
     },
     "execution_count": 193,
     "metadata": {},
     "output_type": "execute_result"
    }
   ],
   "source": [
    "# bugfix (optional)\n",
    "#check a specific location\n",
    "location = geolocator.geocode('Frankfurt Rhine', timeout = 600)\n",
    "location"
   ]
  },
  {
   "cell_type": "code",
   "execution_count": 194,
   "metadata": {},
   "outputs": [
    {
     "data": {
      "text/html": [
       "<div>\n",
       "<style scoped>\n",
       "    .dataframe tbody tr th:only-of-type {\n",
       "        vertical-align: middle;\n",
       "    }\n",
       "\n",
       "    .dataframe tbody tr th {\n",
       "        vertical-align: top;\n",
       "    }\n",
       "\n",
       "    .dataframe thead th {\n",
       "        text-align: right;\n",
       "    }\n",
       "</style>\n",
       "<table border=\"1\" class=\"dataframe\">\n",
       "  <thead>\n",
       "    <tr style=\"text-align: right;\">\n",
       "      <th></th>\n",
       "      <th>current_location</th>\n",
       "      <th>current_work</th>\n",
       "      <th>previous_work</th>\n",
       "      <th>latest_Education</th>\n",
       "      <th>major</th>\n",
       "      <th>search_school</th>\n",
       "      <th>coordinate</th>\n",
       "      <th>state</th>\n",
       "      <th>county</th>\n",
       "      <th>city</th>\n",
       "      <th>fips</th>\n",
       "    </tr>\n",
       "  </thead>\n",
       "  <tbody>\n",
       "    <tr>\n",
       "      <th>337</th>\n",
       "      <td>Greenville-Spartanburg-Anderson, South Carolina</td>\n",
       "      <td>President/Owner, Financial Advisor, CFP®, CRPC...</td>\n",
       "      <td>Vice President, Financial Advisor, CFP®, CRPC®...</td>\n",
       "      <td>University of South Carolina - The Moore Schoo...</td>\n",
       "      <td>Brazil/Portuguese</td>\n",
       "      <td>University of California, Riverside</td>\n",
       "      <td>NaN</td>\n",
       "      <td>NaN</td>\n",
       "      <td>NaN</td>\n",
       "      <td>NaN</td>\n",
       "      <td>&lt;NA&gt;</td>\n",
       "    </tr>\n",
       "    <tr>\n",
       "      <th>548</th>\n",
       "      <td>Frankfurt Rhine-Main</td>\n",
       "      <td>Head of Banking and Partner Strategy and Execu...</td>\n",
       "      <td>Senior Adviser at Holland FinTech</td>\n",
       "      <td>University of   California, Riverside</td>\n",
       "      <td>German Language and Literature</td>\n",
       "      <td>University of California, Riverside</td>\n",
       "      <td>NaN</td>\n",
       "      <td>NaN</td>\n",
       "      <td>NaN</td>\n",
       "      <td>NaN</td>\n",
       "      <td>&lt;NA&gt;</td>\n",
       "    </tr>\n",
       "    <tr>\n",
       "      <th>1001</th>\n",
       "      <td>Ezana is a startup entrepreneur currently prom...</td>\n",
       "      <td>CEO at Afri Kash</td>\n",
       "      <td>Service Management Officer at United Nations</td>\n",
       "      <td>University of California, Riverside</td>\n",
       "      <td>Political Science</td>\n",
       "      <td>University of California, Riverside</td>\n",
       "      <td>NaN</td>\n",
       "      <td>NaN</td>\n",
       "      <td>NaN</td>\n",
       "      <td>NaN</td>\n",
       "      <td>&lt;NA&gt;</td>\n",
       "    </tr>\n",
       "    <tr>\n",
       "      <th>1013</th>\n",
       "      <td>Laila Mickelwait is the Founder and CEO of the...</td>\n",
       "      <td>Founder/CEO at Justice Defense Fund</td>\n",
       "      <td>Founder at New Reality International</td>\n",
       "      <td>University of Southern California</td>\n",
       "      <td>Public Diplomacy</td>\n",
       "      <td>University of California, Riverside</td>\n",
       "      <td>NaN</td>\n",
       "      <td>NaN</td>\n",
       "      <td>NaN</td>\n",
       "      <td>NaN</td>\n",
       "      <td>&lt;NA&gt;</td>\n",
       "    </tr>\n",
       "    <tr>\n",
       "      <th>1782</th>\n",
       "      <td>CEO at Cyphen Limited</td>\n",
       "      <td>CEO at Cyphen Limited</td>\n",
       "      <td>NaN</td>\n",
       "      <td>Peking University</td>\n",
       "      <td>国际经济</td>\n",
       "      <td>University of California, Riverside</td>\n",
       "      <td>NaN</td>\n",
       "      <td>NaN</td>\n",
       "      <td>NaN</td>\n",
       "      <td>NaN</td>\n",
       "      <td>&lt;NA&gt;</td>\n",
       "    </tr>\n",
       "  </tbody>\n",
       "</table>\n",
       "</div>"
      ],
      "text/plain": [
       "                                       current_location  \\\n",
       "337    Greenville-Spartanburg-Anderson, South Carolina    \n",
       "548                              Frankfurt Rhine-Main     \n",
       "1001  Ezana is a startup entrepreneur currently prom...   \n",
       "1013  Laila Mickelwait is the Founder and CEO of the...   \n",
       "1782                              CEO at Cyphen Limited   \n",
       "\n",
       "                                           current_work  \\\n",
       "337   President/Owner, Financial Advisor, CFP®, CRPC...   \n",
       "548   Head of Banking and Partner Strategy and Execu...   \n",
       "1001                                   CEO at Afri Kash   \n",
       "1013                Founder/CEO at Justice Defense Fund   \n",
       "1782                              CEO at Cyphen Limited   \n",
       "\n",
       "                                          previous_work  \\\n",
       "337   Vice President, Financial Advisor, CFP®, CRPC®...   \n",
       "548                   Senior Adviser at Holland FinTech   \n",
       "1001       Service Management Officer at United Nations   \n",
       "1013               Founder at New Reality International   \n",
       "1782                                                NaN   \n",
       "\n",
       "                                       latest_Education  \\\n",
       "337   University of South Carolina - The Moore Schoo...   \n",
       "548               University of   California, Riverside   \n",
       "1001                University of California, Riverside   \n",
       "1013                  University of Southern California   \n",
       "1782                                  Peking University   \n",
       "\n",
       "                               major                        search_school  \\\n",
       "337                Brazil/Portuguese  University of California, Riverside   \n",
       "548   German Language and Literature  University of California, Riverside   \n",
       "1001               Political Science  University of California, Riverside   \n",
       "1013                Public Diplomacy  University of California, Riverside   \n",
       "1782                            国际经济  University of California, Riverside   \n",
       "\n",
       "     coordinate state county city  fips  \n",
       "337         NaN   NaN    NaN  NaN  <NA>  \n",
       "548         NaN   NaN    NaN  NaN  <NA>  \n",
       "1001        NaN   NaN    NaN  NaN  <NA>  \n",
       "1013        NaN   NaN    NaN  NaN  <NA>  \n",
       "1782        NaN   NaN    NaN  NaN  <NA>  "
      ]
     },
     "execution_count": 194,
     "metadata": {},
     "output_type": "execute_result"
    }
   ],
   "source": [
    "#check NAN values and revise current locations to be searchable (change/add more strings to remove in l)\n",
    "df[(df.coordinate.isna()) & (df.current_location.notna())]"
   ]
  }
 ],
 "metadata": {
  "interpreter": {
   "hash": "4e44c95577c5c07fd4c004a76bf84c62558203d4d2c850629ef860a89bb137ad"
  },
  "kernelspec": {
   "display_name": "Python 3.10.2 64-bit (windows store)",
   "language": "python",
   "name": "python3"
  },
  "language_info": {
   "codemirror_mode": {
    "name": "ipython",
    "version": 3
   },
   "file_extension": ".py",
   "mimetype": "text/x-python",
   "name": "python",
   "nbconvert_exporter": "python",
   "pygments_lexer": "ipython3",
   "version": "3.10.2"
  },
  "orig_nbformat": 4
 },
 "nbformat": 4,
 "nbformat_minor": 2
}
