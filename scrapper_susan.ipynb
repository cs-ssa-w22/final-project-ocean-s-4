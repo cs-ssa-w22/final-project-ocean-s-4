{
 "cells": [
  {
   "cell_type": "code",
   "execution_count": 1,
   "metadata": {},
   "outputs": [],
   "source": [
    "import requests, time, random\n",
    "from bs4 import BeautifulSoup\n",
    "from selenium import webdriver"
   ]
  },
  {
   "cell_type": "code",
   "execution_count": 3,
   "metadata": {},
   "outputs": [
    {
     "name": "stderr",
     "output_type": "stream",
     "text": [
      "/var/folders/f2/41ckpyln3370bz1wf7vdknb80000gn/T/ipykernel_16294/527759107.py:1: DeprecationWarning: executable_path has been deprecated, please pass in a Service object\n",
      "  browser = webdriver.Chrome('/Users/zss/Desktop/Application_2/final_project/chromedriver')\n"
     ]
    }
   ],
   "source": [
    "browser = webdriver.Chrome('/Users/zss/Desktop/Application_2/final_project/chromedriver')\n",
    "browser.get('http://www.linkedin.com/uas/login')"
   ]
  },
  {
   "cell_type": "code",
   "execution_count": 8,
   "metadata": {},
   "outputs": [],
   "source": [
    "link = \"https://www.linkedin.com/sales/search/people?companyIncluded=Northwestern%2520University%3A3196%2CPenn%2520State%2520University%3A3657%2CUniversity%2520of%2520North%2520Carolina%2520at%2520Chapel%2520Hill%3A3757%2CVillanova%2520University%3A166806%2CFordham%2520University%3A7338&companyTimeScope=CURRENT_OR_PAST&doFetchHeroCard=false&geoIncluded=103112676&logHistory=true&rsLogId=1302450738&searchSessionId=9ZckSC88SSu2RmmuViGxIQ%3D%3D&seniorityIncluded=4%2C3%2C5\"\n",
    "browser.get(link)\n",
    "src = browser.page_source\n",
    "bs = BeautifulSoup(src, parser = 'html.parser')"
   ]
  },
  {
   "cell_type": "code",
   "execution_count": 17,
   "metadata": {},
   "outputs": [
    {
     "data": {
      "text/plain": [
       "[]"
      ]
     },
     "execution_count": 17,
     "metadata": {},
     "output_type": "execute_result"
    }
   ],
   "source": [
    "#doesnt work, pls ignore！！！\n",
    "profile = []\n",
    "for element.nextSibling in bs.find_all('dt', {'class':'result-lockup__name'}):\n",
    "    sublink = element.a.get('href')\n",
    "    if sublink not in profile:\n",
    "        profile.append(sublink)\n",
    "profile"
   ]
  },
  {
   "cell_type": "markdown",
   "metadata": {},
   "source": [
    "方法大概就是：因为linkedin 反爬是停留在它自己的页面上的，所以右键把页面保存成独立的页面再重新爬就不会有问题（save as html）\n",
    "#这是我重新保存的页面，里面的内容和linkedin 是一样的\n",
    "\"/Users/zss/Desktop/Application_2/final_project/Search _ Sales Navigator.html\"\n",
    "\n",
    "\n",
    "#STEP:\n",
    "\n",
    "##for loop 100 times: （来自动解决保存100页的问题）\n",
    "    original_link = \"https://www.linkedin.com/sales/search/people?companyIncluded=Northwestern%2520University%3A3196%2CPenn%2520State%2520University%3A3657%2CUniversity%2520of%2520North%2520Carolina%2520at%2520Chapel%2520Hill%3A3757%2CVillanova%2520University%3A166806%2CFordham%2520University%3A7338&companyTimeScope=CURRENT_OR_PAST&doFetchHeroCard=false&geoIncluded=103112676&logHistory=true&rsLogId=1302450738&searchSessionId=9ZckSC88SSu2RmmuViGxIQ%3D%3D&seniorityIncluded=4%2C3%2C5\"\n",
    "\n",
    "    1. #selenium automatically scroll down the page [这个是我已经找到的]\n",
    "    #因为我保存的时候发现一个问题，就是如果我不把页面滚动到最底下就没有办法包括所有的人，所以就插了这个，在scraping的时候browser页面会自动划到最底下（不然每一页我要手动）\n",
    "    #然后我们会有整一页的信息\n",
    "        height = 0\n",
    "        for i in range(10):\n",
    "        height += 1000\n",
    "        time.sleep(1)\n",
    "        strheight = str(height)\n",
    "        browser.execute_script(f\"window.scrollTo(0, {strheight})\")\n",
    "\n",
    "    2. #需要查一下selenium go to next page 的一个function \n",
    "    3. #需要查一下selenium go to next page 之后保存当前页面 的一个function\n",
    "    2，3网上说可以，我还没找到，等一会儿看看，不然就手动next page 然后总共保存一百下页面，也不是很多） \n",
    "\n",
    "    4. with saved file:\n",
    "        with open(\"/Users/zss/Desktop/Application_2/final_project/Search _ Sales Navigator.html\") as fp:\n",
    "        soup_test = BeautifulSoup(fp, 'html.parser')\n",
    "        soup_test.find_all('dt', class_='result-lockup__name')\n",
    "        .... 后面就都是一样的步骤了\n",
    "\n",
    "\n",
    "    5. 有了100页的独立保存之后，也可以把这些local path放在一个list里，for loop 爬beautifulsoup的步骤。\n",
    "\n",
    "    \n",
    "\n",
    "\n",
    "    \n",
    "    "
   ]
  },
  {
   "cell_type": "code",
   "execution_count": 33,
   "metadata": {},
   "outputs": [],
   "source": [
    "with open(\"/Users/zss/Desktop/Application_2/final_project/Search _ Sales Navigator.html\") as fp:\n",
    "    soup_test = BeautifulSoup(fp, 'html.parser')"
   ]
  },
  {
   "cell_type": "code",
   "execution_count": 51,
   "metadata": {},
   "outputs": [],
   "source": [
    "height = 0\n",
    "for i in range(10):\n",
    "    height += 1000\n",
    "    time.sleep(1)\n",
    "    strheight = str(height)\n",
    "    browser.execute_script(f\"window.scrollTo(0, {strheight})\")"
   ]
  },
  {
   "cell_type": "code",
   "execution_count": 53,
   "metadata": {},
   "outputs": [
    {
     "data": {
      "text/plain": [
       "[<dt class=\"result-lockup__name\">\n",
       " <a class=\"ember-view\" data-anonymize=\"person-name\" href=\"https://www.linkedin.com/sales/people/ACwAAADFbw0BkxrHCXev3vem830A-ER8U5jQqvc,NAME_SEARCH,m4Kw?_ntb=9ZckSC88SSu2RmmuViGxIQ%3D%3D\" id=\"ember2299\">\n",
       "         Kimberly Smathers, MBA\n",
       "       </a>\n",
       " </dt>,\n",
       " <dt class=\"result-lockup__name\">\n",
       " <a class=\"ember-view\" data-anonymize=\"person-name\" href=\"https://www.linkedin.com/sales/people/ACwAABCqTBwBIIsAYjsJibrSaznDhYn10BaZlLQ,NAME_SEARCH,SrtJ?_ntb=9ZckSC88SSu2RmmuViGxIQ%3D%3D\" id=\"ember2323\">\n",
       "         Alex Tom\n",
       "       </a>\n",
       " </dt>,\n",
       " <dt class=\"result-lockup__name\">\n",
       " <a class=\"ember-view\" data-anonymize=\"person-name\" href=\"https://www.linkedin.com/sales/people/ACwAAAE4Zr8BVCttCrvZTJpiwGAenlc20mRUc-o,NAME_SEARCH,g7I7?_ntb=9ZckSC88SSu2RmmuViGxIQ%3D%3D\" id=\"ember2343\">\n",
       "         Lisa Gugwor, MPA, LSSGB, CSPO®, CSM®\n",
       "       </a>\n",
       " </dt>,\n",
       " <dt class=\"result-lockup__name\">\n",
       " <a class=\"ember-view\" data-anonymize=\"person-name\" href=\"https://www.linkedin.com/sales/people/ACwAAAspBtcB_nF5c5lznbT3OcR_UFG0y09piEo,NAME_SEARCH,LM5g?_ntb=9ZckSC88SSu2RmmuViGxIQ%3D%3D\" id=\"ember2365\">\n",
       "         Jennifer Siedjak\n",
       "       </a>\n",
       " </dt>,\n",
       " <dt class=\"result-lockup__name\">\n",
       " <a class=\"ember-view\" data-anonymize=\"person-name\" href=\"https://www.linkedin.com/sales/people/ACwAAAFi5g4BBasskrNxYPba48ex5EvWdglsZus,NAME_SEARCH,3pPX?_ntb=9ZckSC88SSu2RmmuViGxIQ%3D%3D\" id=\"ember2386\">\n",
       "         Cary Hayner\n",
       "       </a>\n",
       " </dt>]"
      ]
     },
     "execution_count": 53,
     "metadata": {},
     "output_type": "execute_result"
    }
   ],
   "source": [
    "soup_test.find_all('dt', class_='result-lockup__name')\n",
    "for element in soup_test:\n",
    "    "
   ]
  },
  {
   "cell_type": "code",
   "execution_count": 65,
   "metadata": {},
   "outputs": [
    {
     "data": {
      "text/plain": [
       "['https://www.linkedin.com/sales/people/ACwAAADFbw0BkxrHCXev3vem830A-ER8U5jQqvc,NAME_SEARCH,m4Kw?_ntb=9ZckSC88SSu2RmmuViGxIQ%3D%3D',\n",
       " 'https://www.linkedin.com/sales/people/ACwAABCqTBwBIIsAYjsJibrSaznDhYn10BaZlLQ,NAME_SEARCH,SrtJ?_ntb=9ZckSC88SSu2RmmuViGxIQ%3D%3D',\n",
       " 'https://www.linkedin.com/sales/people/ACwAAAE4Zr8BVCttCrvZTJpiwGAenlc20mRUc-o,NAME_SEARCH,g7I7?_ntb=9ZckSC88SSu2RmmuViGxIQ%3D%3D',\n",
       " 'https://www.linkedin.com/sales/people/ACwAAAspBtcB_nF5c5lznbT3OcR_UFG0y09piEo,NAME_SEARCH,LM5g?_ntb=9ZckSC88SSu2RmmuViGxIQ%3D%3D',\n",
       " 'https://www.linkedin.com/sales/people/ACwAAAFi5g4BBasskrNxYPba48ex5EvWdglsZus,NAME_SEARCH,3pPX?_ntb=9ZckSC88SSu2RmmuViGxIQ%3D%3D']"
      ]
     },
     "execution_count": 65,
     "metadata": {},
     "output_type": "execute_result"
    }
   ],
   "source": [
    "soup_test.find_all('dt', class_='result-lockup__name')\n",
    "profile = []\n",
    "for links in soup_test.find_all('dt', class_='result-lockup__name'):\n",
    "    alst = links.find_all('a')\n",
    "    profile.extend([e['href'] for e in alst])\n",
    "\n",
    "profile\n"
   ]
  },
  {
   "cell_type": "code",
   "execution_count": null,
   "metadata": {},
   "outputs": [],
   "source": []
  }
 ],
 "metadata": {
  "interpreter": {
   "hash": "72d596b9a1d01707ed6ddc3babd48ed8ad376ce90e0f520932d5a72a571e6380"
  },
  "kernelspec": {
   "display_name": "Python 3.8.2 ('base')",
   "language": "python",
   "name": "python3"
  },
  "language_info": {
   "codemirror_mode": {
    "name": "ipython",
    "version": 3
   },
   "file_extension": ".py",
   "mimetype": "text/x-python",
   "name": "python",
   "nbconvert_exporter": "python",
   "pygments_lexer": "ipython3",
   "version": "3.8.2"
  },
  "orig_nbformat": 4
 },
 "nbformat": 4,
 "nbformat_minor": 2
}
