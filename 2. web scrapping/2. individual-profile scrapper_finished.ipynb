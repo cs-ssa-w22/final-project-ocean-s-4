{
 "cells": [
  {
   "cell_type": "markdown",
   "id": "8d5142af",
   "metadata": {},
   "source": [
    "## Scrapping alumni info from pre-scrapped and downloaded links\n",
    "1. Automation libraries:\n",
    "<br> *selenium* -- controls web browsers through programs and performs browser automation.\n",
    "2. Scrapping library:\n",
    "<br> *bs4* --pulls data out of HTML files\n",
    "3. Anti-scrapping prevention library:\n",
    "<br> *time* -- suspends execution for the given number of seconds"
   ]
  },
  {
   "cell_type": "code",
   "execution_count": 1,
   "id": "40cc5cc1",
   "metadata": {},
   "outputs": [],
   "source": [
    "import time, random\n",
    "from bs4 import BeautifulSoup\n",
    "from selenium import webdriver\n",
    "import glob\n",
    "import os \n",
    "import pandas as pd"
   ]
  },
  {
   "cell_type": "code",
   "execution_count": 1,
   "id": "cf21be0d",
   "metadata": {},
   "outputs": [
    {
     "ename": "NameError",
     "evalue": "name 'webdriver' is not defined",
     "output_type": "error",
     "traceback": [
      "\u001b[1;31m---------------------------------------------------------------------------\u001b[0m",
      "\u001b[1;31mNameError\u001b[0m                                 Traceback (most recent call last)",
      "\u001b[1;32mc:\\Users\\dell\\Desktop\\30122\\final-project-ocean-s-4\\2. web scrapping\\2. individual-profile scrapper_finished.ipynb Cell 3'\u001b[0m in \u001b[0;36m<module>\u001b[1;34m\u001b[0m\n\u001b[0;32m      <a href='vscode-notebook-cell:/c%3A/Users/dell/Desktop/30122/final-project-ocean-s-4/2.%20web%20scrapping/2.%20individual-profile%20scrapper_finished.ipynb#ch0000002?line=0'>1</a>\u001b[0m \u001b[39m## open browser and login LinkedIn account \u001b[39;00m\n\u001b[1;32m----> <a href='vscode-notebook-cell:/c%3A/Users/dell/Desktop/30122/final-project-ocean-s-4/2.%20web%20scrapping/2.%20individual-profile%20scrapper_finished.ipynb#ch0000002?line=1'>2</a>\u001b[0m browser \u001b[39m=\u001b[39m webdriver\u001b[39m.\u001b[39mChrome(\u001b[39m'\u001b[39m\u001b[39myou local address/chromedriver\u001b[39m\u001b[39m'\u001b[39m)\n\u001b[0;32m      <a href='vscode-notebook-cell:/c%3A/Users/dell/Desktop/30122/final-project-ocean-s-4/2.%20web%20scrapping/2.%20individual-profile%20scrapper_finished.ipynb#ch0000002?line=2'>3</a>\u001b[0m browser\u001b[39m.\u001b[39mget(\u001b[39m'\u001b[39m\u001b[39mhttp://www.linkedin.com/uas/login\u001b[39m\u001b[39m'\u001b[39m)\n",
      "\u001b[1;31mNameError\u001b[0m: name 'webdriver' is not defined"
     ]
    }
   ],
   "source": [
    "## open browser and login LinkedIn account \n",
    "browser = webdriver.Chrome('you local address/chromedriver')\n",
    "browser.get('http://www.linkedin.com/uas/login')"
   ]
  },
  {
   "cell_type": "code",
   "execution_count": 3,
   "id": "935790a8",
   "metadata": {},
   "outputs": [],
   "source": [
    "## open file and get individual profile link\n",
    "profile_link = []\n",
    "for filepath in glob.glob(os.path.join('the path of the downloaded individual profile link', '*.html')):\n",
    "    with open(filepath) as fp:\n",
    "        soup_test = BeautifulSoup(fp, 'html.parser')\n",
    "        ## get profile link of the whole page \n",
    "        soup_test.find_all('dt', class_='result-lockup__name')\n",
    "        for links in soup_test.find_all('dt', class_='result-lockup__name'):\n",
    "            alst = links.find_all('a')\n",
    "            profile_link.extend([e['href'] for e in alst])\n",
    "       "
   ]
  },
  {
   "cell_type": "code",
   "execution_count": 22,
   "id": "218dbc22",
   "metadata": {},
   "outputs": [],
   "source": [
    "search_school_name = \"Brown University\""
   ]
  },
  {
   "cell_type": "code",
   "execution_count": null,
   "id": "97bfaf47",
   "metadata": {},
   "outputs": [],
   "source": [
    "lst_record = []\n",
    "for link in profile_link[:]:\n",
    "    result = []\n",
    "    individual_record = {}\n",
    "    time.sleep(random.uniform(1,2))\n",
    "    browser.get(link)\n",
    "    src = browser.page_source\n",
    "    soup = BeautifulSoup(src, 'lxml')\n",
    "    top_card = soup.find('div', {'class': 'profile-topcard-content-container mr2'})\n",
    "    try:\n",
    "        text = top_card.get_text()\n",
    "        text = text.split('\\n')\n",
    "    except AttributeError:\n",
    "        pass \n",
    "    for t in text:\n",
    "        if t.strip():\n",
    "            result.append(t.strip())\n",
    "    for i in range(len(result)):\n",
    "        if \"connections\" in result[i]:\n",
    "            try:\n",
    "                individual_record[\"current_location\"] = result[i-1]\n",
    "            except IndexError:\n",
    "                pass\n",
    "        if \"Current\" in result[i]:\n",
    "            try:\n",
    "                individual_record[\"current_work\"] = result[i+1]\n",
    "            except IndexError:\n",
    "                pass\n",
    "        if \"Previous\" in result[i]:\n",
    "            try:\n",
    "                individual_record[\"previous_work\"] = result[i+1]\n",
    "            except IndexError:\n",
    "                pass\n",
    "        if \"Education\" in result[i]:\n",
    "            try:\n",
    "                individual_record[\"latest_Education\"] = result[i+1]\n",
    "            except IndexError:\n",
    "                pass \n",
    "        if \"NAME_SEARCH\" in link:\n",
    "            degree = soup.find('span',{'data-test-education':\"field\"})\n",
    "            try:\n",
    "                degree = degree.getText().strip()\n",
    "                individual_record[\"major\"] = degree\n",
    "            except AttributeError:\n",
    "                 pass \n",
    "    if individual_record not in lst_record:\n",
    "        lst_record.append(individual_record)\n",
    "        "
   ]
  },
  {
   "cell_type": "code",
   "execution_count": 9,
   "id": "d9640ec7",
   "metadata": {},
   "outputs": [],
   "source": [
    "## write out csv file \n",
    "df = pd.DataFrame(lst_record)\n",
    "df['search_school'] = search_school_name\n",
    "filename = str(search_school_name)+\".csv\"\n",
    "df.to_csv(filename,index = True)"
   ]
  }
 ],
 "metadata": {
  "kernelspec": {
   "display_name": "Python 3",
   "language": "python",
   "name": "python3"
  },
  "language_info": {
   "codemirror_mode": {
    "name": "ipython",
    "version": 3
   },
   "file_extension": ".py",
   "mimetype": "text/x-python",
   "name": "python",
   "nbconvert_exporter": "python",
   "pygments_lexer": "ipython3",
   "version": "3.10.2"
  }
 },
 "nbformat": 4,
 "nbformat_minor": 5
}
