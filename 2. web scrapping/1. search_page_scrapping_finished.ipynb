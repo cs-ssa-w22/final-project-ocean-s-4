{
 "cells": [
  {
   "cell_type": "markdown",
   "metadata": {},
   "source": [
    "## Scrapping individual profile links\n",
    "Main automation libraries:\n",
    "<br> *selenium* -- controls web browsers through programs and performs browser automation.\n",
    "<br> *pyautogui* -- controls the mouse and keyboard to automate interactions with other applications\n"
   ]
  },
  {
   "cell_type": "code",
   "execution_count": 2,
   "metadata": {},
   "outputs": [],
   "source": [
    "import time, random\n",
    "from selenium import webdriver\n",
    "from selenium.webdriver.common.by import By\n",
    "import pyautogui\n"
   ]
  },
  {
   "cell_type": "markdown",
   "metadata": {},
   "source": [
    "\n",
    "This code is used for scrapping and downloading searching result of each target school. The individual-level record will be further scrapped with different code. Reasons for saving and dowonloading each search page is part of the anti-scrapping effort. "
   ]
  },
  {
   "cell_type": "code",
   "execution_count": 12,
   "metadata": {},
   "outputs": [
    {
     "name": "stderr",
     "output_type": "stream",
     "text": [
      "<ipython-input-12-be1f4d84136d>:2: DeprecationWarning: executable_path has been deprecated, please pass in a Service object\n",
      "  browser = webdriver.Chrome('/Users/jarvis/Desktop/winter 22/CS for SS2/fianl project/final-project-ocean-s-4/chromedriver')\n"
     ]
    }
   ],
   "source": [
    "# initiate browser and login LinkedIn account\n",
    "# replace the path of webdriver.Chrome with your own path  \n",
    "browser = webdriver.Chrome('/Users/jarvis/Desktop/winter 22/CS for SS2/fianl project/final-project-ocean-s-4/chromedriver')\n",
    "browser.get('http://www.linkedin.com/uas/login')"
   ]
  },
  {
   "cell_type": "markdown",
   "metadata": {},
   "source": [
    "### Use LinkedIn advanced search to search people by school under \"My Network\" page"
   ]
  },
  {
   "cell_type": "code",
   "execution_count": 14,
   "metadata": {},
   "outputs": [],
   "source": [
    "page = 1\n",
    "school_name = \"Brown University\"\n",
    "## the link is the search results showing alumni of this universtiy\n",
    "link = \"https://www.linkedin.com/sales/search/people?doFetchHeroCard=false&logHistory=true&rsLogId=1308844090&schoolIncluded=19028&searchSessionId=9ZckSC88SSu2RmmuViGxIQ%3D%3D\"\n",
    "browser.get(link)"
   ]
  },
  {
   "cell_type": "markdown",
   "metadata": {},
   "source": [
    "### Things to look-out \n",
    "**1. settings for link, page and school_name** \n",
    "- set school_name to the school you are currently searching \n",
    "- set page to 1 \n",
    "- manually enter target school in **filter**\n",
    "- copy and paste url link from browser after searching your designated school name \n",
    "\n",
    "\n",
    "**2. settings for chrome browser**\n",
    "- change downloads path to a certain folder (the default settings of chorme is \"Downloads\", is more convenient for following data scrapping if you collect every page file to a certain folder)\n",
    "\n",
    "**3. before running the following code**\n",
    "- make sure the selenium browser is on the front (as it is behind this coding page)\n",
    "    - I have set the time.sleep to 1, so after you run the following chunck, there will be enough time for you to click on the selenium browser window and make it as the front page\n",
    "- after you run the link and browser.get(link) code, you will be at the first page of the whole searching result page, scroll down this page to the bottom, you will notice:\n",
    "    - the \"Chat with us\" buttom is overlapped with \"Next\" buttom\n",
    "    - adjust size of your browser window (拉大), make sure those two buttom is not overlapped (otherwise the ## next page code can not be run )\n"
   ]
  },
  {
   "cell_type": "code",
   "execution_count": 15,
   "metadata": {},
   "outputs": [],
   "source": [
    "while page <=100:\n",
    "    ## scroll down each page \n",
    "    time.sleep(random.randint(3,5))\n",
    "    height = 0\n",
    "    for i in range(10):\n",
    "        height += 500\n",
    "        time.sleep(2)\n",
    "        strheight = str(height)\n",
    "        browser.execute_script(f\"window.scrollTo(0, {strheight})\")\n",
    "    \n",
    "    ## auto download \n",
    "    time.sleep(1)\n",
    "    pyautogui.keyDown('command') # windows user change to ctrl\n",
    "    pyautogui.press('s') \n",
    "    pyautogui.keyUp('command')# windows user change to ctrl\n",
    "    pyautogui.keyUp('command')# windows user change to ctrl\n",
    "    FILE_NAME = school_name + str(page) + '.html'\n",
    "    time.sleep(0.1)\n",
    "    pyautogui.typewrite(FILE_NAME) \n",
    "    time.sleep(0.5)\n",
    "    pyautogui.press('Enter')\n",
    "    time.sleep(random.randint(3,5))\n",
    "    \n",
    "    ## next page\n",
    "    browser.find_element(By.CLASS_NAME, \"search-results__pagination-next-button\").click()\n",
    "    page = page +1 \n",
    "    \n",
    "browser.close()"
   ]
  }
 ],
 "metadata": {
  "interpreter": {
   "hash": "72d596b9a1d01707ed6ddc3babd48ed8ad376ce90e0f520932d5a72a571e6380"
  },
  "kernelspec": {
   "display_name": "Python 3",
   "language": "python",
   "name": "python3"
  },
  "language_info": {
   "codemirror_mode": {
    "name": "ipython",
    "version": 3
   },
   "file_extension": ".py",
   "mimetype": "text/x-python",
   "name": "python",
   "nbconvert_exporter": "python",
   "pygments_lexer": "ipython3",
   "version": "3.10.2"
  }
 },
 "nbformat": 4,
 "nbformat_minor": 2
}
