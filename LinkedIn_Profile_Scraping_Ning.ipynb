{
 "cells": [
  {
   "cell_type": "code",
   "execution_count": 3,
   "id": "09b2bdcc",
   "metadata": {},
   "outputs": [],
   "source": [
    "# import os, random, sys, time\n",
    "import requests, time, random\n",
    "from bs4 import BeautifulSoup\n",
    "from selenium import webdriver\n",
    "from webdriver_manager.chrome import ChromeDriverManager\n",
    "import time\n",
    "import random\n",
    "# from selenium.webdriver.common.by import By"
   ]
  },
  {
   "cell_type": "code",
   "execution_count": 4,
   "id": "5347b29f",
   "metadata": {},
   "outputs": [
    {
     "name": "stderr",
     "output_type": "stream",
     "text": [
      "\n",
      "\n",
      "====== WebDriver manager ======\n",
      "Current google-chrome version is 98.0.4758\n",
      "Get LATEST chromedriver version for 98.0.4758 google-chrome\n",
      "Driver [/Users/ning/.wdm/drivers/chromedriver/mac64/98.0.4758.80/chromedriver] found in cache\n",
      "<ipython-input-4-a0d4b1f7848a>:1: DeprecationWarning: executable_path has been deprecated, please pass in a Service object\n",
      "  browser = webdriver.Chrome(ChromeDriverManager().install())\n"
     ]
    }
   ],
   "source": [
    "browser = webdriver.Chrome(ChromeDriverManager().install())"
   ]
  },
  {
   "cell_type": "code",
   "execution_count": 5,
   "id": "60778f39",
   "metadata": {},
   "outputs": [],
   "source": [
    "browser.get('http://www.linkedin.com/uas/login')"
   ]
  },
  {
   "cell_type": "code",
   "execution_count": 6,
   "id": "74b46da3",
   "metadata": {},
   "outputs": [],
   "source": [
    "file = open('config.txt')\n",
    "lines = file.readlines()\n",
    "username = lines[0] \n",
    "password = lines[1]"
   ]
  },
  {
   "cell_type": "code",
   "execution_count": 7,
   "id": "679ffc9e",
   "metadata": {},
   "outputs": [
    {
     "name": "stderr",
     "output_type": "stream",
     "text": [
      "<ipython-input-7-0e37af7f68c3>:2: DeprecationWarning: find_element_by_* commands are deprecated. Please use find_element() instead\n",
      "  elementID = browser.find_element_by_id('username')\n",
      "<ipython-input-7-0e37af7f68c3>:4: DeprecationWarning: find_element_by_* commands are deprecated. Please use find_element() instead\n",
      "  elementID = browser.find_element_by_id('password')\n"
     ]
    }
   ],
   "source": [
    "# auto log in my linkedin account\n",
    "elementID = browser.find_element_by_id('username')\n",
    "elementID.send_keys(username)\n",
    "elementID = browser.find_element_by_id('password')\n",
    "elementID.send_keys(password)\n",
    "elementID.submit()"
   ]
  },
  {
   "cell_type": "code",
   "execution_count": 8,
   "id": "de21a650",
   "metadata": {},
   "outputs": [],
   "source": [
    "# school search page - non sales navigator\n",
    "rank_72 = 'https://www.linkedin.com/search/results/people/?origin=FACETED_SEARCH&schoolFilter=%5B%2218677%22%5D&sid=gmz'\n",
    "rank_49 = 'https://www.linkedin.com/search/results/people/?origin=FACETED_SEARCH&schoolFilter=%5B%2218506%22%5D&sid=G%2CX'\n",
    "rank_84 = 'https://www.linkedin.com/search/results/people/?origin=FACETED_SEARCH&schoolFilter=%5B%2218771%22%5D&sid=Fq0'\n",
    "rank_02 = 'https://www.linkedin.com/search/results/people/?origin=FACETED_SEARCH&schoolFilter=%5B%2218483%22%5D&sid=8DD'\n",
    "rank_18 = 'https://www.linkedin.com/search/results/people/?origin=FACETED_SEARCH&schoolFilter=%5B%2218366%22%5D&sid=vvi'"
   ]
  },
  {
   "cell_type": "code",
   "execution_count": 9,
   "id": "ddda1d9a",
   "metadata": {},
   "outputs": [],
   "source": [
    "# # school search page - sales navigator\n",
    "# rank_72 = ''\n",
    "# rank_49 = ''\n",
    "# rank_84 = ''\n",
    "# rank_02 = 'https://www.linkedin.com/sales/search/people?keywords=&rsLogId=1299546586&schoolIncluded=18483&searchSessionId=9KyDNC%2BwTuWQ29V%2BKy%2B1CA%3D%3D'\n",
    "# rank_18 = ''"
   ]
  },
  {
   "cell_type": "code",
   "execution_count": 25,
   "id": "9ac80e2d",
   "metadata": {},
   "outputs": [],
   "source": [
    "# extract profiles id from each universtiy - non sales navigator\n",
    "def extract_profileIDs(school_link):\n",
    "    all_profiles = set()\n",
    "    browser.get(school_link)\n",
    "    src = browser.page_source\n",
    "    soup = BeautifulSoup(src, 'html5lib')\n",
    "    for element in soup.find_all('a',  class_=\"app-aware-link\"):\n",
    "        profile_id = element.get('herf')\n",
    "        print(profile_id)\n",
    "        print('1')\n",
    "        time.sleep(random.randint(2, 4)) \n",
    "        all_profiles.add(profile_id)\n",
    "    return all_profiles"
   ]
  },
  {
   "cell_type": "code",
   "execution_count": 26,
   "id": "6b692c8d",
   "metadata": {},
   "outputs": [
    {
     "data": {
      "text/plain": [
       "set()"
      ]
     },
     "execution_count": 26,
     "metadata": {},
     "output_type": "execute_result"
    }
   ],
   "source": [
    "extract_profileIDs(rank_02)"
   ]
  },
  {
   "cell_type": "code",
   "execution_count": 12,
   "id": "55a31a11",
   "metadata": {},
   "outputs": [],
   "source": [
    "# # extract profiles id from each universtiy - sales navigator\n",
    "# def extract_profileIDs(school_link):\n",
    "#     all_profiles = set()\n",
    "#     browser.get(school_link)\n",
    "#     src = browser.page_source\n",
    "#     soup = BeautifulSoup(src, 'html5lib')\n",
    "#     links = browser.find_elements_by_tag_name('a')\n",
    "#     for link in links:\n",
    "#         print(link.get_attribute('href'))"
   ]
  },
  {
   "cell_type": "code",
   "execution_count": 13,
   "id": "91a5400c",
   "metadata": {},
   "outputs": [],
   "source": [
    "# extract_profileIDs(rank_02)"
   ]
  },
  {
   "cell_type": "code",
   "execution_count": 14,
   "id": "9ff3105d",
   "metadata": {},
   "outputs": [],
   "source": [
    "# visitedProfiles = []\n",
    "# profilesQueued = []"
   ]
  },
  {
   "cell_type": "code",
   "execution_count": 15,
   "id": "f8e33f73",
   "metadata": {},
   "outputs": [],
   "source": [
    "# def getNewProfileIDs(soup, profilesQueued):"
   ]
  }
 ],
 "metadata": {
  "kernelspec": {
   "display_name": "Python 3",
   "language": "python",
   "name": "python3"
  },
  "language_info": {
   "codemirror_mode": {
    "name": "ipython",
    "version": 3
   },
   "file_extension": ".py",
   "mimetype": "text/x-python",
   "name": "python",
   "nbconvert_exporter": "python",
   "pygments_lexer": "ipython3",
   "version": "3.8.8"
  }
 },
 "nbformat": 4,
 "nbformat_minor": 5
}
