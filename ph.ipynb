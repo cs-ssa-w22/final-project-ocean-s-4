{
 "cells": [
  {
   "cell_type": "code",
   "execution_count": 1,
   "id": "095ee496",
   "metadata": {},
   "outputs": [],
   "source": [
    "import requests, time, random\n",
    "from bs4 import BeautifulSoup\n",
    "from selenium import webdriver"
   ]
  },
  {
   "cell_type": "code",
   "execution_count": 2,
   "id": "d3921ddb",
   "metadata": {},
   "outputs": [
    {
     "name": "stderr",
     "output_type": "stream",
     "text": [
      "C:\\Users\\dell\\AppData\\Local\\Temp\\ipykernel_17500\\2300412427.py:1: DeprecationWarning: executable_path has been deprecated, please pass in a Service object\n",
      "  browser = webdriver.Chrome('chromedriver.exe')\n"
     ]
    }
   ],
   "source": [
    "browser = webdriver.Chrome('chromedriver.exe')\n",
    "browser.get('http://www.linkedin.com/uas/login')"
   ]
  },
  {
   "cell_type": "code",
   "execution_count": 3,
   "id": "18c03494",
   "metadata": {},
   "outputs": [],
   "source": [
    "file = open('config.txt')\n",
    "lines = file.readlines()\n",
    "username = lines[0]\n",
    "password = lines[1]"
   ]
  },
  {
   "cell_type": "code",
   "execution_count": 4,
   "id": "067cd2e2",
   "metadata": {},
   "outputs": [
    {
     "name": "stderr",
     "output_type": "stream",
     "text": [
      "C:\\Users\\dell\\AppData\\Local\\Temp\\ipykernel_17500\\1545643571.py:1: DeprecationWarning: find_element_by_* commands are deprecated. Please use find_element() instead\n",
      "  elementID = browser.find_element_by_id('username')\n",
      "C:\\Users\\dell\\AppData\\Local\\Temp\\ipykernel_17500\\1545643571.py:3: DeprecationWarning: find_element_by_* commands are deprecated. Please use find_element() instead\n",
      "  elementID = browser.find_element_by_id('password')\n"
     ]
    }
   ],
   "source": [
    "elementID = browser.find_element_by_id('username')\n",
    "elementID.send_keys(username)\n",
    "elementID = browser.find_element_by_id('password')\n",
    "elementID.send_keys(password)\n",
    "elementID.submit()"
   ]
  },
  {
   "cell_type": "code",
   "execution_count": 5,
   "id": "51d5d7b3",
   "metadata": {},
   "outputs": [],
   "source": [
    "url_13 = 'https://www.linkedin.com/sales/search/people?doFetchHeroCard=false&logHistory=false&rsLogId=1293996730&schoolIncluded=18677&searchSessionId=wxELyzZWT2CZAhK3xorvUg%3D%3D'\n",
    "url_18 = 'https://www.linkedin.com/sales/search/people?doFetchHeroCard=false&logHistory=true&rsLogId=1294248138&schoolIncluded=18366&searchSessionId=wxELyzZWT2CZAhK3xorvUg%3D%3D'\n",
    "url_33 = 'https://www.linkedin.com/sales/search/people?doFetchHeroCard=false&logHistory=false&rsLogId=1294247698&schoolIncluded=17954&searchSessionId=wxELyzZWT2CZAhK3xorvUg%3D%3D'\n",
    "url_90 = 'https://www.linkedin.com/sales/search/people?doFetchHeroCard=false&logHistory=true&rsLogId=1294248194&schoolIncluded=17952&searchSessionId=wxELyzZWT2CZAhK3xorvUg%3D%3D'\n",
    "url_100 = 'https://www.linkedin.com/sales/search/people?doFetchHeroCard=false&logHistory=true&rsLogId=1294248242&schoolIncluded=19207&searchSessionId=wxELyzZWT2CZAhK3xorvUg%3D%3D'\n",
    "url_uchi = 'https://www.linkedin.com/sales/search/people?doFetchHeroCard=false&logHistory=true&rsLogId=1294248290&schoolIncluded=18314&searchSessionId=wxELyzZWT2CZAhK3xorvUg%3D%3D'"
   ]
  },
  {
   "cell_type": "code",
   "execution_count": 6,
   "id": "ca667a1f",
   "metadata": {},
   "outputs": [],
   "source": [
    "urls = [url_13, url_18, url_33, url_90, url_100, url_uchi]\n",
    "already = []\n",
    "i = 1\n",
    "urls_pro = []"
   ]
  },
  {
   "cell_type": "code",
   "execution_count": 7,
   "id": "93ff2f07",
   "metadata": {},
   "outputs": [],
   "source": [
    "browser.get(url_13)\n",
    "src = browser.page_source\n",
    "bs = BeautifulSoup(src, 'html5lib')"
   ]
  },
  {
   "cell_type": "code",
   "execution_count": 20,
   "id": "0527d820",
   "metadata": {},
   "outputs": [
    {
     "data": {
      "text/plain": [
       "[]"
      ]
     },
     "execution_count": 20,
     "metadata": {},
     "output_type": "execute_result"
    }
   ],
   "source": [
    "#bs.find_all('ul', class_ = \"reusable-search__entity-result-list list-style-none\")\n",
    "#bs.find_all('li', class_=\"reusable-search__result-container\")\n",
    "for i in bs.find_all('a'):\n",
    "    url = i.get('href')\n",
    "    print(i)\n",
    "    if url not in urls_pro:\n",
    "        urls_pro.append(url)\n",
    "bs.find_all('dl')\n",
    "   \n"
   ]
  },
  {
   "cell_type": "code",
   "execution_count": 18,
   "id": "4549ebce",
   "metadata": {},
   "outputs": [
    {
     "data": {
      "text/plain": [
       "[]"
      ]
     },
     "execution_count": 18,
     "metadata": {},
     "output_type": "execute_result"
    }
   ],
   "source": [
    "urls_pro"
   ]
  }
 ],
 "metadata": {
  "kernelspec": {
   "display_name": "Python 3 (ipykernel)",
   "language": "python",
   "name": "python3"
  },
  "language_info": {
   "codemirror_mode": {
    "name": "ipython",
    "version": 3
   },
   "file_extension": ".py",
   "mimetype": "text/x-python",
   "name": "python",
   "nbconvert_exporter": "python",
   "pygments_lexer": "ipython3",
   "version": "3.10.2"
  }
 },
 "nbformat": 4,
 "nbformat_minor": 5
}
