{
 "cells": [
  {
   "cell_type": "code",
   "execution_count": 48,
   "id": "095ee496",
   "metadata": {},
   "outputs": [],
   "source": [
    "import requests, time, random\n",
    "from bs4 import BeautifulSoup\n",
    "from selenium import webdriver"
   ]
  },
  {
   "cell_type": "code",
   "execution_count": 49,
   "id": "d3921ddb",
   "metadata": {},
   "outputs": [
    {
     "name": "stderr",
     "output_type": "stream",
     "text": [
      "C:\\Users\\dell\\AppData\\Local\\Temp\\ipykernel_18188\\2300412427.py:1: DeprecationWarning: executable_path has been deprecated, please pass in a Service object\n",
      "  browser = webdriver.Chrome('chromedriver.exe')\n"
     ]
    }
   ],
   "source": [
    "browser = webdriver.Chrome('chromedriver.exe')\n",
    "browser.get('http://www.linkedin.com/uas/login')"
   ]
  },
  {
   "cell_type": "code",
   "execution_count": 50,
   "id": "18c03494",
   "metadata": {},
   "outputs": [],
   "source": [
    "file = open('config.txt')\n",
    "lines = file.readlines()\n",
    "username = lines[0]\n",
    "password = lines[1]"
   ]
  },
  {
   "cell_type": "code",
   "execution_count": 51,
   "id": "067cd2e2",
   "metadata": {},
   "outputs": [
    {
     "name": "stderr",
     "output_type": "stream",
     "text": [
      "C:\\Users\\dell\\AppData\\Local\\Temp\\ipykernel_18188\\1545643571.py:1: DeprecationWarning: find_element_by_* commands are deprecated. Please use find_element() instead\n",
      "  elementID = browser.find_element_by_id('username')\n",
      "C:\\Users\\dell\\AppData\\Local\\Temp\\ipykernel_18188\\1545643571.py:3: DeprecationWarning: find_element_by_* commands are deprecated. Please use find_element() instead\n",
      "  elementID = browser.find_element_by_id('password')\n"
     ]
    }
   ],
   "source": [
    "elementID = browser.find_element_by_id('username')\n",
    "elementID.send_keys(username)\n",
    "elementID = browser.find_element_by_id('password')\n",
    "elementID.send_keys(password)\n",
    "elementID.submit()"
   ]
  },
  {
   "cell_type": "code",
   "execution_count": 52,
   "id": "fb54a31a",
   "metadata": {},
   "outputs": [],
   "source": [
    "url_13 = 'https://www.linkedin.com/search/results/people/?origin=FACETED_SEARCH&schoolFilter=%5B%2219348%22%5D&sid=7pA'\n",
    "url_18 = 'https://www.linkedin.com/search/results/people/?origin=FACETED_SEARCH&schoolFilter=%5B%2218366%22%5D&sid=(l*'\n",
    "url_33 = 'https://www.linkedin.com/search/results/people/?origin=FACETED_SEARCH&schoolFilter=%5B%2217954%22%5D&sid=Abi'\n",
    "url_90 = 'https://www.linkedin.com/search/results/people/?origin=FACETED_SEARCH&schoolFilter=%5B%2217952%22%5D&sid=DkV'\n",
    "url_100 = 'https://www.linkedin.com/search/results/people/?origin=FACETED_SEARCH&schoolFilter=%5B%2219207%22%5D&sid=2F1'\n",
    "url_uchi = 'https://www.linkedin.com/search/results/people/?origin=FACETED_SEARCH&schoolFilter=%5B%2218314%22%5D&sid=d%40A'\n"
   ]
  },
  {
   "cell_type": "code",
   "execution_count": 96,
   "id": "69b65335",
   "metadata": {},
   "outputs": [],
   "source": [
    "urls = [url_13, url_18, url_33, url_90, url_100, url_uchi]\n",
    "already = []\n",
    "i = 1\n",
    "urls_pro = []"
   ]
  },
  {
   "cell_type": "code",
   "execution_count": null,
   "id": "51d5d7b3",
   "metadata": {},
   "outputs": [],
   "source": [
    "url_13 = 'https://www.linkedin.com/search/results/people/?origin=FACETED_SEARCH&schoolFilter=%5B%2219348%22%5D&sid=7pA'\n",
    "url_18 = 'https://www.linkedin.com/search/results/people/?origin=FACETED_SEARCH&schoolFilter=%5B%2218366%22%5D&sid=(l*'\n",
    "url_33 = 'https://www.linkedin.com/search/results/people/?origin=FACETED_SEARCH&schoolFilter=%5B%2217954%22%5D&sid=Abi'\n",
    "url_90 = 'https://www.linkedin.com/search/results/people/?origin=FACETED_SEARCH&schoolFilter=%5B%2217952%22%5D&sid=DkV'\n",
    "url_100 = 'https://www.linkedin.com/search/results/people/?origin=FACETED_SEARCH&schoolFilter=%5B%2219207%22%5D&sid=2F1'\n",
    "url_uchi = 'https://www.linkedin.com/search/results/people/?origin=FACETED_SEARCH&schoolFilter=%5B%2218314%22%5D&sid=d%40A'"
   ]
  },
  {
   "cell_type": "code",
   "execution_count": 75,
   "id": "93ff2f07",
   "metadata": {},
   "outputs": [],
   "source": [
    "browser.get(url_13)\n",
    "src = browser.page_source\n",
    "bs = BeautifulSoup(src, 'html5lib')"
   ]
  },
  {
   "cell_type": "code",
   "execution_count": 98,
   "id": "0527d820",
   "metadata": {},
   "outputs": [],
   "source": [
    "#bs.find_all('ul', class_ = \"reusable-search__entity-result-list list-style-none\")\n",
    "#bs.find_all('li', class_=\"reusable-search__result-container\")\n",
    "for i in bs.find_all('a',  class_=\"app-aware-link\"):\n",
    "    url = i.get('href')\n",
    "    if url not in urls_pro:\n",
    "        urls_pro.append(url)\n",
    "   \n"
   ]
  },
  {
   "cell_type": "code",
   "execution_count": 101,
   "id": "4549ebce",
   "metadata": {},
   "outputs": [
    {
     "data": {
      "text/plain": [
       "['https://www.linkedin.com/in/edaerensoy?miniProfileUrn=urn%3Ali%3Afs_miniProfile%3AACoAACSguCMBd00A-V1r4OiIAuDKPXtT0Pn-kRg',\n",
       " 'https://www.linkedin.com/in/ACoAABKnTZQB7GDNnEsYdwCyNIqLO6MtbrpjD4E?miniProfileUrn=urn%3Ali%3Afs_miniProfile%3AACoAABKnTZQB7GDNnEsYdwCyNIqLO6MtbrpjD4E',\n",
       " 'https://www.linkedin.com/in/ACoAACc7eC8B0h-yFqHadlOa_oFEXCGhtkm_07U?miniProfileUrn=urn%3Ali%3Afs_miniProfile%3AACoAACc7eC8B0h-yFqHadlOa_oFEXCGhtkm_07U',\n",
       " 'https://www.linkedin.com/in/jinyi-yan?miniProfileUrn=urn%3Ali%3Afs_miniProfile%3AACoAAC04geIBEefRCbhKrY0lxkzc6qwAL898-qA',\n",
       " 'https://www.linkedin.com/in/ACoAADXAqQIB1tFZZ0dthzujQtEEtNd1wVclzoM?miniProfileUrn=urn%3Ali%3Afs_miniProfile%3AACoAADXAqQIB1tFZZ0dthzujQtEEtNd1wVclzoM',\n",
       " 'https://www.linkedin.com/in/xuechen-charles-hong?miniProfileUrn=urn%3Ali%3Afs_miniProfile%3AACoAACbSYc8BC_Bt3kLm0Z1aiSjGSbLjo1G1dMk',\n",
       " 'https://www.linkedin.com/in/ACoAABNEuGEBdnO_yovkX4kSEslDAv0CaekJMgc?miniProfileUrn=urn%3Ali%3Afs_miniProfile%3AACoAABNEuGEBdnO_yovkX4kSEslDAv0CaekJMgc',\n",
       " 'https://www.linkedin.com/in/ACoAABuZPFoBgDgRlXMsjchzHXVBAkyeJRL8stk?miniProfileUrn=urn%3Ali%3Afs_miniProfile%3AACoAABuZPFoBgDgRlXMsjchzHXVBAkyeJRL8stk',\n",
       " 'https://www.linkedin.com/search/results/people/?facetNetwork=%5B%22F%22%5D&facetConnectionOf=%5B%22ACoAACbSYc8BC_Bt3kLm0Z1aiSjGSbLjo1G1dMk%22%5D&origin=SHARED_CONNECTIONS_CANNED_SEARCH',\n",
       " 'https://www.linkedin.com/in/xiaoyun-gong?miniProfileUrn=urn%3Ali%3Afs_miniProfile%3AACoAAB6TBuQBw8Gkm9eEnjkW9EbrN4nalHV1EnY',\n",
       " 'https://www.linkedin.com/in/ACoAADPEWbIBe2t9AGG_GNmFD8UeA4K0M8BvQCc?miniProfileUrn=urn%3Ali%3Afs_miniProfile%3AACoAADPEWbIBe2t9AGG_GNmFD8UeA4K0M8BvQCc',\n",
       " 'https://www.linkedin.com/in/yunke-deng?miniProfileUrn=urn%3Ali%3Afs_miniProfile%3AACoAACgZh5MBGORZRV6Ytl3bgSND4hRqF2VU1KM',\n",
       " 'https://www.linkedin.com/in/ACoAACHseZgBFh3MJuG1GnyPE4aFaJ2x_ziIf_A?miniProfileUrn=urn%3Ali%3Afs_miniProfile%3AACoAACHseZgBFh3MJuG1GnyPE4aFaJ2x_ziIf_A',\n",
       " 'https://www.linkedin.com/in/ACoAACot7GsBYoWR4iji_T4Ic7FsOP-Ui3zlr9g?miniProfileUrn=urn%3Ali%3Afs_miniProfile%3AACoAACot7GsBYoWR4iji_T4Ic7FsOP-Ui3zlr9g',\n",
       " 'https://www.linkedin.com/search/results/people/?facetNetwork=%5B%22F%22%5D&facetConnectionOf=%5B%22ACoAACgZh5MBGORZRV6Ytl3bgSND4hRqF2VU1KM%22%5D&origin=SHARED_CONNECTIONS_CANNED_SEARCH',\n",
       " 'https://www.linkedin.com/in/chun-hu?miniProfileUrn=urn%3Ali%3Afs_miniProfile%3AACoAAB9ll-YBPTK30lwprNVqrC0FXL381s7iyM8',\n",
       " 'https://www.linkedin.com/in/ACoAAAF1jxcB2kuhW6CsEDfqdsLEm-DGNTF_ODE?miniProfileUrn=urn%3Ali%3Afs_miniProfile%3AACoAAAF1jxcB2kuhW6CsEDfqdsLEm-DGNTF_ODE',\n",
       " 'https://www.linkedin.com/search/results/people/?facetNetwork=%5B%22F%22%5D&facetConnectionOf=%5B%22ACoAAB9ll-YBPTK30lwprNVqrC0FXL381s7iyM8%22%5D&origin=SHARED_CONNECTIONS_CANNED_SEARCH',\n",
       " 'https://www.linkedin.com/in/yuyang-li?miniProfileUrn=urn%3Ali%3Afs_miniProfile%3AACoAAByHFJsBvu0YHO2vl6tLdeGbGTRowqur-lY',\n",
       " 'https://www.linkedin.com/in/ACoAAB6KMcIBvCWBt7eO3weFlKm9Yv2vB6ssOC8?miniProfileUrn=urn%3Ali%3Afs_miniProfile%3AACoAAB6KMcIBvCWBt7eO3weFlKm9Yv2vB6ssOC8',\n",
       " 'https://www.linkedin.com/in/ACoAADTbXqcBH8Knk-DXyY2YkyuWwWrqAVscvOg?miniProfileUrn=urn%3Ali%3Afs_miniProfile%3AACoAADTbXqcBH8Knk-DXyY2YkyuWwWrqAVscvOg',\n",
       " 'https://www.linkedin.com/in/nicholas-rasetti-086675140?miniProfileUrn=urn%3Ali%3Afs_miniProfile%3AACoAACJFISYBVuDup46A3BXC9JlcsxzXHVsMXy0',\n",
       " 'https://www.linkedin.com/in/bangxi-xiao-589a471a4?miniProfileUrn=urn%3Ali%3Afs_miniProfile%3AACoAAC_aLnkBAb2KWdL0fled9FjF2zRoGF2bovI']"
      ]
     },
     "execution_count": 101,
     "metadata": {},
     "output_type": "execute_result"
    }
   ],
   "source": [
    "urls_pro"
   ]
  }
 ],
 "metadata": {
  "kernelspec": {
   "display_name": "Python 3 (ipykernel)",
   "language": "python",
   "name": "python3"
  },
  "language_info": {
   "codemirror_mode": {
    "name": "ipython",
    "version": 3
   },
   "file_extension": ".py",
   "mimetype": "text/x-python",
   "name": "python",
   "nbconvert_exporter": "python",
   "pygments_lexer": "ipython3",
   "version": "3.10.2"
  }
 },
 "nbformat": 4,
 "nbformat_minor": 5
}
