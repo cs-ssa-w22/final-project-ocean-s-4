{
 "cells": [
  {
   "cell_type": "markdown",
   "id": "8d5142af",
   "metadata": {},
   "source": [
    "## individual-profile scrapper \n",
    "scraping linkedIn individual profile from html file "
   ]
  },
  {
   "cell_type": "code",
   "execution_count": 1,
   "id": "40cc5cc1",
   "metadata": {},
   "outputs": [],
   "source": [
    "import requests, time, random\n",
    "from bs4 import BeautifulSoup\n",
    "from selenium import webdriver\n",
    "from selenium.webdriver.chrome.service import Service\n",
    "from selenium.webdriver.common.by import By\n",
    "from selenium.webdriver.support.expected_conditions import visibility_of_element_located\n",
    "from selenium.webdriver.support.ui import WebDriverWait\n",
    "import pyautogui\n",
    "import keyboard\n",
    "import glob\n",
    "import os \n",
    "import pandas as pd\n"
   ]
  },
  {
   "cell_type": "code",
   "execution_count": 21,
   "id": "cf21be0d",
   "metadata": {},
   "outputs": [
    {
     "name": "stderr",
     "output_type": "stream",
     "text": [
      "<ipython-input-21-c7121a012f55>:2: DeprecationWarning: executable_path has been deprecated, please pass in a Service object\n",
      "  browser = webdriver.Chrome('/Users/jarvis/Desktop/winter 22/CS for SS2/fianl project/final-project-ocean-s-4/chromedriver')\n"
     ]
    }
   ],
   "source": [
    "## oepn browser \n",
    "browser = webdriver.Chrome('/Users/jarvis/Desktop/winter 22/CS for SS2/fianl project/final-project-ocean-s-4/chromedriver')\n",
    "browser.get('http://www.linkedin.com/uas/login')"
   ]
  },
  {
   "cell_type": "code",
   "execution_count": 3,
   "id": "935790a8",
   "metadata": {},
   "outputs": [],
   "source": [
    "## open file and get individual profile link\n",
    "profile_link = []\n",
    "for filepath in glob.glob(os.path.join('/Users/jarvis/Desktop/winter 22/CS for SS2/fianl project/final-project-ocean-s-4/web_page/University of California-Davis', '*.html')):\n",
    "    with open(filepath) as fp:\n",
    "        soup_test = BeautifulSoup(fp, 'html.parser')\n",
    "        ## get profile link of the whole page \n",
    "        soup_test.find_all('dt', class_='result-lockup__name')\n",
    "        for links in soup_test.find_all('dt', class_='result-lockup__name'):\n",
    "            alst = links.find_all('a')\n",
    "            profile_link.extend([e['href'] for e in alst])\n",
    "       "
   ]
  },
  {
   "cell_type": "markdown",
   "id": "6765384e",
   "metadata": {},
   "source": [
    "### set school name here: "
   ]
  },
  {
   "cell_type": "code",
   "execution_count": 22,
   "id": "218dbc22",
   "metadata": {},
   "outputs": [],
   "source": [
    "search_school_name = \"University of California-Davis\""
   ]
  },
  {
   "cell_type": "code",
   "execution_count": null,
   "id": "97bfaf47",
   "metadata": {},
   "outputs": [],
   "source": [
    "lst_record = []\n",
    "for link in profile_link[200:300]:\n",
    "    result = []\n",
    "    individual_record = {}\n",
    "    time.sleep(random.uniform(1,2))\n",
    "    browser.get(link)\n",
    "    src = browser.page_source\n",
    "    soup = BeautifulSoup(src, 'lxml')\n",
    "    top_card = soup.find('div', {'class': 'profile-topcard-content-container mr2'})\n",
    "    try:\n",
    "        text = top_card.get_text()\n",
    "        text = text.split('\\n')\n",
    "    except AttributeError:\n",
    "        pass \n",
    "    for t in text:\n",
    "        if t.strip():\n",
    "            result.append(t.strip())\n",
    "    for i in range(len(result)):\n",
    "        if \"connections\" in result[i]:\n",
    "            try:\n",
    "                individual_record[\"current_location\"] = result[i-1]\n",
    "            except IndexError:\n",
    "                pass\n",
    "        if \"Current\" in result[i]:\n",
    "            try:\n",
    "                individual_record[\"current_work\"] = result[i+1]\n",
    "            except IndexError:\n",
    "                pass\n",
    "        if \"Previous\" in result[i]:\n",
    "            try:\n",
    "                individual_record[\"previous_work\"] = result[i+1]\n",
    "            except IndexError:\n",
    "                pass\n",
    "        if \"Education\" in result[i]:\n",
    "            try:\n",
    "                individual_record[\"latest_Education\"] = result[i+1]\n",
    "            except IndexError:\n",
    "                pass \n",
    "        if \"NAME_SEARCH\" in link:\n",
    "            degree = soup.find('span',{'data-test-education':\"field\"})\n",
    "            try:\n",
    "                degree = degree.getText().strip()\n",
    "                individual_record[\"majro\"] = degree\n",
    "            except AttributeError:\n",
    "                 pass \n",
    "    if individual_record not in lst_record:\n",
    "        lst_record.append(individual_record)\n",
    "        "
   ]
  },
  {
   "cell_type": "code",
   "execution_count": 9,
   "id": "d9640ec7",
   "metadata": {},
   "outputs": [],
   "source": [
    "## write out csv file \n",
    "df = pd.DataFrame(lst_record)\n",
    "df['search_school'] = search_school_name\n",
    "filename = str(search_school_name)+\".csv\"\n",
    "df.to_csv(filename,index = True)"
   ]
  }
 ],
 "metadata": {
  "kernelspec": {
   "display_name": "Python 3",
   "language": "python",
   "name": "python3"
  },
  "language_info": {
   "codemirror_mode": {
    "name": "ipython",
    "version": 3
   },
   "file_extension": ".py",
   "mimetype": "text/x-python",
   "name": "python",
   "nbconvert_exporter": "python",
   "pygments_lexer": "ipython3",
   "version": "3.8.8"
  }
 },
 "nbformat": 4,
 "nbformat_minor": 5
}
